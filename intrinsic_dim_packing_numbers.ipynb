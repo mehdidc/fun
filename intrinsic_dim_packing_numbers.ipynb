{
 "cells": [
  {
   "cell_type": "code",
   "execution_count": 4,
   "metadata": {
    "collapsed": true
   },
   "outputs": [],
   "source": [
    "import numpy as np\n",
    "import pandas as pd\n",
    "import subprocess\n",
    "import sys\n",
    "import tempfile\n",
    "import shutil\n",
    "import os\n",
    "from sklearn.datasets import make_swiss_roll\n",
    "FOLDER = \"/root/work/code/external/packing_numbers\""
   ]
  },
  {
   "cell_type": "code",
   "execution_count": 24,
   "metadata": {
    "collapsed": false
   },
   "outputs": [],
   "source": [
    "def launch_packing_numbers(data_filename, out_dir, package_folder=FOLDER, verbose=1):\n",
    "    cmd = \"java Learning.MeasuringDimension.Experiment -f {} -o {}\"\n",
    "    cmd = cmd.format(data_filename, out_dir)\n",
    "    if verbose > 0:\n",
    "        print('Execute : {}'.format(cmd))\n",
    "    cmd = cmd.split(' ')\n",
    "    fd = open(os.path.join(out_dir, 'stdout'), 'w')\n",
    "    subprocess.call(cmd, stdout=fd, stderr=fd, cwd=package_folder)\n",
    "    fd.close()\n",
    "\n",
    "def write_data(data, filename):\n",
    "    np.savetxt(filename, data, delimiter=' ')\n",
    "\n",
    "def get_intrinsic_dim(data, verbose=1):\n",
    "    folder = tempfile.mkdtemp(prefix='packing_numbers')\n",
    "    if verbose > 0:\n",
    "        print('Output folder : {}'.format(folder))\n",
    "    data_filename = os.path.join(folder, 'input')\n",
    "    write_data(data, data_filename)\n",
    "    launch_packing_numbers(data_filename, folder)\n",
    "    #shutil.rmtree(folder)"
   ]
  },
  {
   "cell_type": "code",
   "execution_count": 34,
   "metadata": {
    "collapsed": true
   },
   "outputs": [],
   "source": [
    "Y, labels = make_swiss_roll(20)"
   ]
  },
  {
   "cell_type": "code",
   "execution_count": null,
   "metadata": {
    "collapsed": false
   },
   "outputs": [
    {
     "name": "stdout",
     "output_type": "stream",
     "text": [
      "/tmp/packing_numbersOAq0V6\n",
      "Output folder : \n",
      "Execute : java Learning.MeasuringDimension.Experiment -f /tmp/packing_numbersOAq0V6/input -o /tmp/packing_numbersOAq0V6\n"
     ]
    }
   ],
   "source": [
    "%timeit\n",
    "get_intrinsic_dim(Y)"
   ]
  }
 ],
 "metadata": {
  "kernelspec": {
   "display_name": "Python 2",
   "language": "python",
   "name": "python2"
  },
  "language_info": {
   "codemirror_mode": {
    "name": "ipython",
    "version": 2
   },
   "file_extension": ".py",
   "mimetype": "text/x-python",
   "name": "python",
   "nbconvert_exporter": "python",
   "pygments_lexer": "ipython2",
   "version": "2.7.11"
  }
 },
 "nbformat": 4,
 "nbformat_minor": 0
}
