{
 "cells": [
  {
   "cell_type": "code",
   "execution_count": null,
   "metadata": {
    "collapsed": false
   },
   "outputs": [],
   "source": [
    "%matplotlib inline\n",
    "import matplotlib.pyplot as plt\n",
    "import os\n",
    "os.environ['THEANO_FLAGS'] = 'device=gpu'\n",
    "from keras.layers import *\n",
    "from keras.models import Model\n",
    "from keras.optimizers import Adam, RMSprop\n",
    "from lasagnekit.datasets.mnist import MNIST\n",
    "from lasagnekit.misc.plot_weights import dispims_color\n",
    "import theano.tensor as T\n",
    "import theano"
   ]
  },
  {
   "cell_type": "code",
   "execution_count": null,
   "metadata": {
    "collapsed": false
   },
   "outputs": [],
   "source": [
    "data = MNIST()\n",
    "data.load()\n",
    "nb = 10000\n",
    "Y = data.X[0:nb]\n",
    "\n",
    "#X = np.arange(len(Y), dtype='int32')\n",
    "X = np.random.uniform(-1, 1, size=(nb, z_dim))\n",
    "Z = data.y[0:nb]"
   ]
  },
  {
   "cell_type": "code",
   "execution_count": null,
   "metadata": {
    "collapsed": false
   },
   "outputs": [],
   "source": [
    "z_dim = 100\n",
    "nb_hidden = [\n",
    "    100, 256, 512, 784\n",
    "]\n",
    "hid = []\n",
    "nb_examples = X.shape[0]\n",
    "\n",
    "#x = Input(shape=(1,), dtype='int32')\n",
    "#inp = x\n",
    "#x = Embedding(input_dim=nb_examples, output_dim=z_dim)(x)\n",
    "#x = Flatten()(x)\n",
    "\n",
    "\n",
    "x = Input(shape=(z_dim,), dtype='float32')\n",
    "inp = x\n",
    "for i, h in enumerate(nb_hidden):\n",
    "    x = Dense(h)(x)\n",
    "    if i == len(nb_hidden) - 1:\n",
    "        x = BatchNormalization()(x)\n",
    "        s = 'sigmoid'\n",
    "    else:\n",
    "        s = 'relu'\n",
    "    x = Activation(s)(x)\n",
    "    hid.append(x)\n",
    "outp = x\n",
    "model = Model(inp, outp)\n",
    "optimizer = Adam(lr=0.01)\n",
    "model.compile(loss='binary_crossentropy', optimizer=optimizer)"
   ]
  },
  {
   "cell_type": "code",
   "execution_count": null,
   "metadata": {
    "collapsed": false
   },
   "outputs": [],
   "source": [
    "for l in model.layers:\n",
    "    print(l)"
   ]
  },
  {
   "cell_type": "code",
   "execution_count": null,
   "metadata": {
    "collapsed": false
   },
   "outputs": [],
   "source": [
    "encode = theano.function([model.layers[0].input], model.layers[6].input)"
   ]
  },
  {
   "cell_type": "code",
   "execution_count": null,
   "metadata": {
    "collapsed": true
   },
   "outputs": [],
   "source": [
    "epoch = 0\n",
    "nb_per = 10"
   ]
  },
  {
   "cell_type": "code",
   "execution_count": null,
   "metadata": {
    "collapsed": false
   },
   "outputs": [],
   "source": [
    "model.fit(X, Y, verbose=1, nb_epoch=nb_per)\n",
    "epoch += nb_per\n",
    "print(epoch)"
   ]
  },
  {
   "cell_type": "code",
   "execution_count": null,
   "metadata": {
    "collapsed": false
   },
   "outputs": [],
   "source": [
    "y_pred = model.predict(X[0:100])\n",
    "y_pred = y_pred.reshape((y_pred.shape[0], 28, 28, 1))\n",
    "y_pred = y_pred * np.ones((1, 1, 1, 3))\n",
    "img = dispims_color(y_pred)\n",
    "fig = plt.figure(figsize=(20, 20))\n",
    "plt.imshow(img, interpolation='none')"
   ]
  },
  {
   "cell_type": "code",
   "execution_count": null,
   "metadata": {
    "collapsed": false
   },
   "outputs": [],
   "source": [
    "from sklearn.manifold import TSNE\n",
    "w = TSNE().fit_transform(encode(X.astype(np.float32))[0:200])"
   ]
  },
  {
   "cell_type": "code",
   "execution_count": null,
   "metadata": {
    "collapsed": false
   },
   "outputs": [],
   "source": [
    "#fig = plt.figure(figsize=(20, 20))\n",
    "fig = plt.figure()\n",
    "plt.scatter(w[:, 0], w[:, 1], c=Z[0:200])#, marker='+')"
   ]
  },
  {
   "cell_type": "code",
   "execution_count": null,
   "metadata": {
    "collapsed": false
   },
   "outputs": [],
   "source": [
    "w = model.layers[1].W.get_value()\n",
    "c=plt.imshow(np.corrcoef(w.T))\n",
    "plt.colorbar()"
   ]
  },
  {
   "cell_type": "code",
   "execution_count": null,
   "metadata": {
    "collapsed": false
   },
   "outputs": [],
   "source": [
    "fw = model.layers[-3].W.get_value()\n",
    "fw = fw.reshape((fw.shape[0], 28, 28, 1))\n",
    "fw = fw * np.ones((1, 1, 1, 3))"
   ]
  },
  {
   "cell_type": "code",
   "execution_count": null,
   "metadata": {
    "collapsed": false
   },
   "outputs": [],
   "source": [
    "img = dispims_color(fw)\n",
    "fig = plt.figure(figsize=(20, 20))\n",
    "plt.imshow(img, cmap='gray')"
   ]
  },
  {
   "cell_type": "code",
   "execution_count": null,
   "metadata": {
    "collapsed": false
   },
   "outputs": [],
   "source": [
    "from scipy.stats import multivariate_normal\n",
    "print(model.layers[9])\n",
    "l=model.layers[9]"
   ]
  },
  {
   "cell_type": "code",
   "execution_count": null,
   "metadata": {
    "collapsed": false
   },
   "outputs": [],
   "source": [
    "xx = T.matrix()\n",
    "c = theano.function([model.layers[3].ones], model.layers[8].input)\n",
    "h = np.random.multivariate_normal(w.mean(axis=0), np.cov(w.T), size=128).astype(np.float32)\n",
    "h = w[0:100]\n",
    "pred = c(h)\n",
    "pred = pred.reshape((pred.shape[0], 28, 28, 1))\n",
    "pred = pred * np.ones((1, 1, 1, 3))"
   ]
  },
  {
   "cell_type": "code",
   "execution_count": null,
   "metadata": {
    "collapsed": false
   },
   "outputs": [],
   "source": [
    "w = model.layers[1].W.get_value()\n",
    "img = dispims_color(pred)\n",
    "fig = plt.figure(figsize=(20, 20))\n",
    "plt.imshow(img, cmap='gray')"
   ]
  }
 ],
 "metadata": {
  "kernelspec": {
   "display_name": "Python 2",
   "language": "python",
   "name": "python2"
  },
  "language_info": {
   "codemirror_mode": {
    "name": "ipython",
    "version": 2
   },
   "file_extension": ".py",
   "mimetype": "text/x-python",
   "name": "python",
   "nbconvert_exporter": "python",
   "pygments_lexer": "ipython2",
   "version": "2.7.11"
  }
 },
 "nbformat": 4,
 "nbformat_minor": 0
}
