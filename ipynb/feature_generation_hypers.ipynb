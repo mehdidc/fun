{
 "cells": [
  {
   "cell_type": "code",
   "execution_count": 963,
   "metadata": {
    "collapsed": false
   },
   "outputs": [],
   "source": [
    "%matplotlib inline\n",
    "import matplotlib.pyplot as plt\n",
    "from lightjob.cli import load_db\n",
    "from lightjob.db import SUCCESS\n",
    "import collections\n",
    "import json\n",
    "import pandas as pd\n",
    "import numpy as np\n",
    "from tpot import TPOTClassifier, TPOTRegressor\n",
    "from xgboost import XGBRegressor\n",
    "from IPython.display import Image\n",
    "from sklearn.linear_model import LinearRegression, Ridge, Lasso\n",
    "from sklearn.ensemble import RandomForestRegressor\n",
    "from sklearn.tree import DecisionTreeRegressor\n",
    "from sklearn.cross_validation import KFold, train_test_split, ShuffleSplit\n",
    "from sklearn.neural_network import MLPRegressor\n",
    "from sklearn.gaussian_process import GaussianProcessRegressor\n",
    "from sklearn.gaussian_process.kernels import RBF\n",
    "def flatten_dict(l):\n",
    "    d = {}\n",
    "    for k, v in l.items():\n",
    "        if isinstance(v, collections.Mapping):\n",
    "            d.update(flatten_dict(v))\n",
    "        elif isinstance(v, list) or isinstance(v, tuple):\n",
    "            for i, l in enumerate(v):\n",
    "                d[k+'_{}'.format(i)] = l\n",
    "        else:\n",
    "            d[k] = v\n",
    "    return d\n",
    "def plot_imp(names, values):\n",
    "    ind = (np.arange(len(names)))\n",
    "    plt.xticks(ind + 0.5, names)\n",
    "    plt.bar(ind, values, width=1)\n",
    "    plt.xlabel('variable index')\n",
    "    plt.ylabel('importance')\n",
    "\n",
    "class EnsembleRegressor(object):\n",
    "    def __init__(self, regs=None):\n",
    "        self.regs = regs\n",
    "\n",
    "    def fit(self, X, y):\n",
    "        return self\n",
    "\n",
    "    def predict(self, X, return_std=False):\n",
    "        if return_std:\n",
    "            means = []\n",
    "            stds = []\n",
    "            for r in self.regs:\n",
    "                m, s = r.predict(X, return_std=True)\n",
    "                means.append(m)\n",
    "                stds.append(s)\n",
    "            means = np.vstack(means).T\n",
    "            stds = np.vstack(stds).T\n",
    "            return np.mean(means, axis=1), (np.sqrt((stds**2).sum(axis=1)) / stds.shape[1])\n",
    "        else:\n",
    "            preds = np.vstack([r.predict(X) for r in self.regs]).T\n",
    "            return np.mean(preds, axis=1)\n"
   ]
  },
  {
   "cell_type": "code",
   "execution_count": 53,
   "metadata": {
    "collapsed": true
   },
   "outputs": [],
   "source": [
    "db = load_db(folder='../../feature_generation/.lightjob')"
   ]
  },
  {
   "cell_type": "code",
   "execution_count": 54,
   "metadata": {
    "collapsed": false
   },
   "outputs": [],
   "source": [
    "jobs = list(db.jobs_with(state=SUCCESS, type='training'))\n",
    "jobs = filter(lambda j:j['content']['dataset'] == 'digits', jobs)"
   ]
  },
  {
   "cell_type": "code",
   "execution_count": 58,
   "metadata": {
    "collapsed": false
   },
   "outputs": [
    {
     "name": "stdout",
     "output_type": "stream",
     "text": [
      "{u'50per': 54.85158047638317, u'90per': 53.820155732562135, u'5per': 55.28937117287276, u'70per': 54.51151175866086, u'30per': 54.312614499544196, u'10per': 54.41327650537736}\n"
     ]
    }
   ],
   "source": [
    "for j in jobs:\n",
    "    print(j['stats']['training']['avg_loss_train_details'])\n",
    "    break"
   ]
  },
  {
   "cell_type": "code",
   "execution_count": 714,
   "metadata": {
    "collapsed": false
   },
   "outputs": [],
   "source": [
    "df = pd.DataFrame()\n",
    "df['hypers'] = [j['content'] for j in jobs]\n",
    "cst = 784.\n",
    "def get_details(name, subname, j):\n",
    "    if name + '_details' in j['stats']['training']:\n",
    "        return j['stats']['training']['avg_loss_train_fix_details'][subname] / cst\n",
    "    else:\n",
    "        return np.nan\n",
    "    \n",
    "earlys = ('5per', '10per', '30per', '50per', '70per', '90per')\n",
    "for k in earlys:\n",
    "    df['avg_loss_train_early_'  + k] = [get_details('avg_loss_train_fix', k, j)  for j in jobs]\n",
    "df['avg_loss_train'] = [j['stats']['training'].get('avg_loss_train_fix', np.nan) / cst  for j in jobs]\n",
    "df['jobset'] = [j['where'] for j in jobs]"
   ]
  },
  {
   "cell_type": "code",
   "execution_count": 1163,
   "metadata": {
    "collapsed": false
   },
   "outputs": [],
   "source": [
    "colnames = set()\n",
    "for i in range(len(df)):\n",
    "    h = df['hypers'].iloc[i]\n",
    "    h = flatten_dict(h)\n",
    "    colnames |= set(h.keys())\n",
    "colnames = list(colnames)\n",
    "for col in colnames:\n",
    "    df[col] = df.apply(lambda r:flatten_dict((r['hypers'])).get(col), axis=1)\n",
    "df = df.dropna(axis=0, subset=['avg_loss_train'])\n",
    "for k in earlys:\n",
    "    df = df.dropna(axis=0, subset=['avg_loss_train_early_' + k])"
   ]
  },
  {
   "cell_type": "code",
   "execution_count": 1164,
   "metadata": {
    "collapsed": false
   },
   "outputs": [],
   "source": [
    "cols = ['avg_loss_train_early_' + k for k in earlys[0:2]]\n",
    "cols += colnames\n",
    "df_x = df[cols]\n",
    "df_x = df_x.fillna(-1)\n",
    "df_x = pd.get_dummies(df_x)\n",
    "df_y = df['avg_loss_train']\n",
    "df_y_rel = (df[cols[1]] - df['avg_loss_train']) / (df['avg_loss_train'])"
   ]
  },
  {
   "cell_type": "code",
   "execution_count": 1165,
   "metadata": {
    "collapsed": false
   },
   "outputs": [],
   "source": [
    "X_vect = df_x.values\n",
    "y_vect = df_y.values\n",
    "cols = (df_x.columns.values)"
   ]
  },
  {
   "cell_type": "code",
   "execution_count": 1174,
   "metadata": {
    "collapsed": false
   },
   "outputs": [],
   "source": [
    "X_train, X_test, y_train, y_test = train_test_split(X_vect, y_vect, test_size=0.2)"
   ]
  },
  {
   "cell_type": "code",
   "execution_count": 1175,
   "metadata": {
    "collapsed": false
   },
   "outputs": [
    {
     "name": "stdout",
     "output_type": "stream",
     "text": [
      "train    valid\n",
      "0.00002 0.01458\n",
      "0.00003 0.01562\n",
      "0.00002 0.01616\n",
      "0.00002 0.02224\n",
      "0.00002 0.01696\n",
      "mean valid:\n",
      "(0.017111805008981053, 0.0026770201754822841)\n"
     ]
    }
   ],
   "source": [
    "from sklearn.base import clone\n",
    "\n",
    "kernel = RBF()\n",
    "#reg = Ridge(alpha=10)\n",
    "#reg = LinearRegression()\n",
    "#reg = RandomForestRegressor(n_estimators=10, max_depth=10)\n",
    "#reg = DecisionTreeRegressor(max_depth=10, random_state=1)\n",
    "reg = GaussianProcessRegressor(normalize_y=True, n_restarts_optimizer=10)\n",
    "scores = []\n",
    "#for train, test in StratifiedShuffleSplit(y, n_iter=10, test_size=0.9, random_state=2):\n",
    "\n",
    "reg_orig = clone(reg)\n",
    "\n",
    "def S(reg, x, y):\n",
    "    return np.abs(reg.predict(x) - y).mean()\n",
    "    #return (np.abs(reg.predict(x) - y)/(y)).mean()\n",
    "print('train    valid')\n",
    "regs = []\n",
    "\n",
    "#for train, test in ShuffleSplit(len(X_train), n_iter=10, test_size=0.2, random_state=2):\n",
    "for train, test in KFold(len(X_train), n_folds=5, shuffle=True, random_state=2):\n",
    "    reg = clone(reg_orig)\n",
    "    reg.fit(X_train[train], y_train[train])\n",
    "    print('{:.5f} {:.5f}'.format(S(reg, X_train[train], y_train[train]), S(reg, X_train[test], y_train[test])))\n",
    "    score = S(reg, X_train[test], y_train[test])\n",
    "    scores.append(score)\n",
    "    regs.append(reg)\n",
    "print('mean valid:')\n",
    "print(np.mean(scores), np.std(scores))"
   ]
  },
  {
   "cell_type": "code",
   "execution_count": 1176,
   "metadata": {
    "collapsed": false
   },
   "outputs": [
    {
     "name": "stdout",
     "output_type": "stream",
     "text": [
      "0.019602538512\n",
      "0.0184645382486\n",
      "0.0198696382999\n",
      "0.0198764950415\n",
      "0.0197055769261\n",
      "ens:\n",
      "0.0184561957645\n"
     ]
    }
   ],
   "source": [
    "final_reg = EnsembleRegressor(regs)\n",
    "for r in regs:\n",
    "    print(S(r, X_test, y_test))\n",
    "print('ens:')\n",
    "print(S(final_reg, X_test, y_test))\n",
    "m, s = final_reg.predict(X_test, return_std=True)\n",
    "mr, sr = reg.predict(X_test, return_std=True)"
   ]
  },
  {
   "cell_type": "code",
   "execution_count": 1177,
   "metadata": {
    "collapsed": false
   },
   "outputs": [
    {
     "name": "stdout",
     "output_type": "stream",
     "text": [
      "('ens std avg:', 0.013815792103271303)\n",
      "('one std avg:', 0.031177241022441026)\n"
     ]
    }
   ],
   "source": [
    "print('ens std avg:', np.sqrt((s**2).sum()/(len(s)**2)))\n",
    "print('one std avg:', np.sqrt((sr**2).sum()/(len(sr)**2)))"
   ]
  },
  {
   "cell_type": "code",
   "execution_count": 1178,
   "metadata": {
    "collapsed": false
   },
   "outputs": [
    {
     "data": {
      "text/html": [
       "<div>\n",
       "<table border=\"1\" class=\"dataframe\">\n",
       "  <thead>\n",
       "    <tr style=\"text-align: right;\">\n",
       "      <th></th>\n",
       "      <th>pred</th>\n",
       "      <th>real</th>\n",
       "      <th>std</th>\n",
       "      <th>std_r</th>\n",
       "    </tr>\n",
       "  </thead>\n",
       "  <tbody>\n",
       "    <tr>\n",
       "      <th>164</th>\n",
       "      <td>27.443498</td>\n",
       "      <td>27.066899</td>\n",
       "      <td>0.789217</td>\n",
       "      <td>1.795550</td>\n",
       "    </tr>\n",
       "    <tr>\n",
       "      <th>84</th>\n",
       "      <td>33.526726</td>\n",
       "      <td>37.081855</td>\n",
       "      <td>350.615459</td>\n",
       "      <td>784.000000</td>\n",
       "    </tr>\n",
       "    <tr>\n",
       "      <th>226</th>\n",
       "      <td>33.526726</td>\n",
       "      <td>181.341622</td>\n",
       "      <td>350.615459</td>\n",
       "      <td>784.000000</td>\n",
       "    </tr>\n",
       "    <tr>\n",
       "      <th>298</th>\n",
       "      <td>25.869163</td>\n",
       "      <td>20.945761</td>\n",
       "      <td>280.891483</td>\n",
       "      <td>769.643695</td>\n",
       "    </tr>\n",
       "    <tr>\n",
       "      <th>251</th>\n",
       "      <td>4.988914</td>\n",
       "      <td>4.994250</td>\n",
       "      <td>0.698043</td>\n",
       "      <td>0.000000</td>\n",
       "    </tr>\n",
       "    <tr>\n",
       "      <th>275</th>\n",
       "      <td>62.045741</td>\n",
       "      <td>124.905732</td>\n",
       "      <td>335.025016</td>\n",
       "      <td>741.576849</td>\n",
       "    </tr>\n",
       "    <tr>\n",
       "      <th>234</th>\n",
       "      <td>29.712356</td>\n",
       "      <td>22.297878</td>\n",
       "      <td>344.474767</td>\n",
       "      <td>776.742800</td>\n",
       "    </tr>\n",
       "    <tr>\n",
       "      <th>271</th>\n",
       "      <td>33.526726</td>\n",
       "      <td>61.595313</td>\n",
       "      <td>350.615459</td>\n",
       "      <td>784.000000</td>\n",
       "    </tr>\n",
       "    <tr>\n",
       "      <th>29</th>\n",
       "      <td>0.454950</td>\n",
       "      <td>0.388156</td>\n",
       "      <td>0.235595</td>\n",
       "      <td>0.537132</td>\n",
       "    </tr>\n",
       "    <tr>\n",
       "      <th>286</th>\n",
       "      <td>11.772700</td>\n",
       "      <td>11.765984</td>\n",
       "      <td>0.822388</td>\n",
       "      <td>0.000000</td>\n",
       "    </tr>\n",
       "    <tr>\n",
       "      <th>375</th>\n",
       "      <td>23.741255</td>\n",
       "      <td>8.130401</td>\n",
       "      <td>331.104794</td>\n",
       "      <td>729.058249</td>\n",
       "    </tr>\n",
       "    <tr>\n",
       "      <th>229</th>\n",
       "      <td>6.490136</td>\n",
       "      <td>6.513904</td>\n",
       "      <td>1.940412</td>\n",
       "      <td>1.779930</td>\n",
       "    </tr>\n",
       "    <tr>\n",
       "      <th>259</th>\n",
       "      <td>0.315450</td>\n",
       "      <td>0.312107</td>\n",
       "      <td>0.424293</td>\n",
       "      <td>1.136160</td>\n",
       "    </tr>\n",
       "    <tr>\n",
       "      <th>86</th>\n",
       "      <td>33.526726</td>\n",
       "      <td>74.751630</td>\n",
       "      <td>350.615459</td>\n",
       "      <td>784.000000</td>\n",
       "    </tr>\n",
       "    <tr>\n",
       "      <th>193</th>\n",
       "      <td>23.152634</td>\n",
       "      <td>20.858326</td>\n",
       "      <td>223.075662</td>\n",
       "      <td>420.062140</td>\n",
       "    </tr>\n",
       "    <tr>\n",
       "      <th>112</th>\n",
       "      <td>28.485322</td>\n",
       "      <td>7.884229</td>\n",
       "      <td>192.098559</td>\n",
       "      <td>663.336710</td>\n",
       "    </tr>\n",
       "    <tr>\n",
       "      <th>340</th>\n",
       "      <td>46.302030</td>\n",
       "      <td>44.905106</td>\n",
       "      <td>14.247117</td>\n",
       "      <td>60.509342</td>\n",
       "    </tr>\n",
       "    <tr>\n",
       "      <th>362</th>\n",
       "      <td>16.093860</td>\n",
       "      <td>16.534853</td>\n",
       "      <td>0.327698</td>\n",
       "      <td>0.254764</td>\n",
       "    </tr>\n",
       "    <tr>\n",
       "      <th>7</th>\n",
       "      <td>33.526726</td>\n",
       "      <td>57.280718</td>\n",
       "      <td>350.615459</td>\n",
       "      <td>784.000000</td>\n",
       "    </tr>\n",
       "    <tr>\n",
       "      <th>57</th>\n",
       "      <td>3.506532</td>\n",
       "      <td>3.483004</td>\n",
       "      <td>1.048200</td>\n",
       "      <td>1.507134</td>\n",
       "    </tr>\n",
       "    <tr>\n",
       "      <th>270</th>\n",
       "      <td>48.018195</td>\n",
       "      <td>74.670204</td>\n",
       "      <td>328.876487</td>\n",
       "      <td>776.791700</td>\n",
       "    </tr>\n",
       "    <tr>\n",
       "      <th>200</th>\n",
       "      <td>33.526726</td>\n",
       "      <td>0.981293</td>\n",
       "      <td>350.615459</td>\n",
       "      <td>784.000000</td>\n",
       "    </tr>\n",
       "    <tr>\n",
       "      <th>260</th>\n",
       "      <td>11.765061</td>\n",
       "      <td>11.907688</td>\n",
       "      <td>0.088321</td>\n",
       "      <td>0.239934</td>\n",
       "    </tr>\n",
       "    <tr>\n",
       "      <th>356</th>\n",
       "      <td>27.971222</td>\n",
       "      <td>25.192101</td>\n",
       "      <td>6.568767</td>\n",
       "      <td>0.859092</td>\n",
       "    </tr>\n",
       "    <tr>\n",
       "      <th>163</th>\n",
       "      <td>86.652689</td>\n",
       "      <td>86.639060</td>\n",
       "      <td>10.696559</td>\n",
       "      <td>37.751937</td>\n",
       "    </tr>\n",
       "    <tr>\n",
       "      <th>367</th>\n",
       "      <td>5.348613</td>\n",
       "      <td>5.383866</td>\n",
       "      <td>0.578034</td>\n",
       "      <td>2.890171</td>\n",
       "    </tr>\n",
       "    <tr>\n",
       "      <th>398</th>\n",
       "      <td>6.765488</td>\n",
       "      <td>6.792856</td>\n",
       "      <td>1.320854</td>\n",
       "      <td>4.456060</td>\n",
       "    </tr>\n",
       "    <tr>\n",
       "      <th>304</th>\n",
       "      <td>54.641190</td>\n",
       "      <td>52.915743</td>\n",
       "      <td>0.180634</td>\n",
       "      <td>0.903168</td>\n",
       "    </tr>\n",
       "    <tr>\n",
       "      <th>198</th>\n",
       "      <td>52.624264</td>\n",
       "      <td>53.091642</td>\n",
       "      <td>0.347151</td>\n",
       "      <td>0.000000</td>\n",
       "    </tr>\n",
       "    <tr>\n",
       "      <th>124</th>\n",
       "      <td>39.184512</td>\n",
       "      <td>39.219754</td>\n",
       "      <td>1.190217</td>\n",
       "      <td>1.876477</td>\n",
       "    </tr>\n",
       "  </tbody>\n",
       "</table>\n",
       "</div>"
      ],
      "text/plain": [
       "          pred        real         std       std_r\n",
       "164  27.443498   27.066899    0.789217    1.795550\n",
       "84   33.526726   37.081855  350.615459  784.000000\n",
       "226  33.526726  181.341622  350.615459  784.000000\n",
       "298  25.869163   20.945761  280.891483  769.643695\n",
       "251   4.988914    4.994250    0.698043    0.000000\n",
       "275  62.045741  124.905732  335.025016  741.576849\n",
       "234  29.712356   22.297878  344.474767  776.742800\n",
       "271  33.526726   61.595313  350.615459  784.000000\n",
       "29    0.454950    0.388156    0.235595    0.537132\n",
       "286  11.772700   11.765984    0.822388    0.000000\n",
       "375  23.741255    8.130401  331.104794  729.058249\n",
       "229   6.490136    6.513904    1.940412    1.779930\n",
       "259   0.315450    0.312107    0.424293    1.136160\n",
       "86   33.526726   74.751630  350.615459  784.000000\n",
       "193  23.152634   20.858326  223.075662  420.062140\n",
       "112  28.485322    7.884229  192.098559  663.336710\n",
       "340  46.302030   44.905106   14.247117   60.509342\n",
       "362  16.093860   16.534853    0.327698    0.254764\n",
       "7    33.526726   57.280718  350.615459  784.000000\n",
       "57    3.506532    3.483004    1.048200    1.507134\n",
       "270  48.018195   74.670204  328.876487  776.791700\n",
       "200  33.526726    0.981293  350.615459  784.000000\n",
       "260  11.765061   11.907688    0.088321    0.239934\n",
       "356  27.971222   25.192101    6.568767    0.859092\n",
       "163  86.652689   86.639060   10.696559   37.751937\n",
       "367   5.348613    5.383866    0.578034    2.890171\n",
       "398   6.765488    6.792856    1.320854    4.456060\n",
       "304  54.641190   52.915743    0.180634    0.903168\n",
       "198  52.624264   53.091642    0.347151    0.000000\n",
       "124  39.184512   39.219754    1.190217    1.876477"
      ]
     },
     "execution_count": 1178,
     "metadata": {},
     "output_type": "execute_result"
    }
   ],
   "source": [
    "pd.DataFrame({'pred': m*784, 'std': s*784,  'std_r':sr*784, 'real': y_test * 784}).sample(30)"
   ]
  },
  {
   "cell_type": "code",
   "execution_count": 1179,
   "metadata": {
    "collapsed": false
   },
   "outputs": [
    {
     "data": {
      "text/plain": [
       "<matplotlib.text.Text at 0x7f046a2b5450>"
      ]
     },
     "execution_count": 1179,
     "metadata": {},
     "output_type": "execute_result"
    },
    {
     "data": {
      "image/png": "[encoded data removed]",
      "text/plain": [
       "<matplotlib.figure.Figure at 0x7f046a18fd90>"
      ]
     },
     "metadata": {},
     "output_type": "display_data"
    }
   ],
   "source": [
    "plt.scatter(X_test[:, 0]*cst, y_test*cst, c='r')\n",
    "plt.scatter(X_test[:, 0]*cst, final_reg.predict(X_test)*cst, c='b')\n",
    "plt.title(cols[0])\n",
    "plt.ylabel('avg_loss_train_last')"
   ]
  },
  {
   "cell_type": "code",
   "execution_count": 1183,
   "metadata": {
    "collapsed": false
   },
   "outputs": [
    {
     "data": {
      "text/plain": [
       "<matplotlib.text.Text at 0x7f046a1c49d0>"
      ]
     },
     "execution_count": 1183,
     "metadata": {},
     "output_type": "execute_result"
    },
    {
     "data": {
      "image/png": "[encoded data removed]",
      "text/plain": [
       "<matplotlib.figure.Figure at 0x7f046a087790>"
      ]
     },
     "metadata": {},
     "output_type": "display_data"
    }
   ],
   "source": [
    "plt.scatter(X_test[:, 1]*cst, y_test*cst, c='r')\n",
    "plt.scatter(X_test[:, 1]*cst, final_reg.predict(X_test)*cst, c='b')\n",
    "plt.title(cols[1])\n",
    "plt.ylabel('avg_loss_train_last')"
   ]
  },
  {
   "cell_type": "code",
   "execution_count": 1182,
   "metadata": {
    "collapsed": false
   },
   "outputs": [
    {
     "name": "stdout",
     "output_type": "stream",
     "text": [
      "0.220657276995\n"
     ]
    }
   ],
   "source": [
    "print((s>sr).mean())"
   ]
  }
 ],
 "metadata": {
  "kernelspec": {
   "display_name": "Python 2",
   "language": "python",
   "name": "python2"
  },
  "language_info": {
   "codemirror_mode": {
    "name": "ipython",
    "version": 2
   },
   "file_extension": ".py",
   "mimetype": "text/x-python",
   "name": "python",
   "nbconvert_exporter": "python",
   "pygments_lexer": "ipython2",
   "version": "2.7.12"
  }
 },
 "nbformat": 4,
 "nbformat_minor": 0
}
