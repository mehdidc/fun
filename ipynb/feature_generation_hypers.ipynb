{
 "cells": [
  {
   "cell_type": "code",
   "execution_count": 1,
   "metadata": {
    "collapsed": false
   },
   "outputs": [
    {
     "name": "stderr",
     "output_type": "stream",
     "text": [
      "/home/ubuntu/work/code/external/scikit-learn/sklearn/cross_validation.py:43: DeprecationWarning: This module has been deprecated in favor of the model_selection module into which all the refactored classes and functions are moved. Also note that the interface of the new CV iterators are different from that of this module. This module will be removed in 0.20.\n",
      "  \"This module will be removed in 0.20.\", DeprecationWarning)\n"
     ]
    }
   ],
   "source": [
    "%matplotlib inline\n",
    "import matplotlib.pyplot as plt\n",
    "from lightjob.cli import load_db\n",
    "from lightjob.db import SUCCESS\n",
    "import collections\n",
    "import json\n",
    "import pandas as pd\n",
    "import numpy as np\n",
    "from tpot import TPOTClassifier, TPOTRegressor\n",
    "from xgboost import XGBRegressor\n",
    "from IPython.display import Image\n",
    "from sklearn.linear_model import LinearRegression, Ridge, Lasso\n",
    "from sklearn.ensemble import RandomForestRegressor\n",
    "from sklearn.tree import DecisionTreeRegressor\n",
    "from sklearn.cross_validation import KFold, train_test_split, ShuffleSplit\n",
    "from sklearn.neural_network import MLPRegressor\n",
    "from sklearn.gaussian_process import GaussianProcessRegressor\n",
    "from sklearn.gaussian_process.kernels import RBF\n",
    "\n",
    "def json_to_vec():\n",
    "    pass\n",
    "\n",
    "def flatten_dict(l):\n",
    "    d = {}\n",
    "    for k, v in l.items():\n",
    "        if isinstance(v, collections.Mapping):\n",
    "            d.update(flatten_dict(v))\n",
    "        elif isinstance(v, list) or isinstance(v, tuple):\n",
    "            for i, l in enumerate(v):\n",
    "                d[k+'_{}'.format(i)] = l\n",
    "        else:\n",
    "            d[k] = v\n",
    "    return d\n",
    "\n",
    "def plot_imp(names, values):\n",
    "    ind = (np.arange(len(names)))\n",
    "    plt.xticks(ind + 0.5, names)\n",
    "    plt.bar(ind, values, width=1)\n",
    "    plt.xlabel('variable index')i\n",
    "    plt.ylabel('importance')\n",
    "\n",
    "class EnsembleRegressor(object):\n",
    "    def __init__(self, regs=None):\n",
    "        self.regs = regs\n",
    "\n",
    "    def fit(self, X, y):\n",
    "        return self\n",
    "\n",
    "    def predict(self, X, return_std=False):\n",
    "        if return_std:\n",
    "            means = []\n",
    "            stds = []\n",
    "            for r in self.regs:\n",
    "                m, s = r.predict(X, return_std=True)\n",
    "                means.append(m)\n",
    "                stds.append(s)\n",
    "            means = np.vstack(means).T\n",
    "            stds = np.vstack(stds).T\n",
    "            return np.mean(means, axis=1), (np.sqrt((stds**2).sum(axis=1)) / stds.shape[1])\n",
    "        else:\n",
    "            preds = np.vstack([r.predict(X) for r in self.regs]).T\n",
    "            return np.mean(preds, axis=1)\n"
   ]
  },
  {
   "cell_type": "code",
   "execution_count": 2,
   "metadata": {
    "collapsed": true
   },
   "outputs": [],
   "source": [
    "db = load_db(folder='../../feature_generation/.lightjob')"
   ]
  },
  {
   "cell_type": "code",
   "execution_count": 3,
   "metadata": {
    "collapsed": false
   },
   "outputs": [],
   "source": [
    "jobs = list(db.jobs_with(state=SUCCESS, type='training'))\n",
    "jobs = filter(lambda j:j['content']['dataset'] == 'digits', jobs)"
   ]
  },
  {
   "cell_type": "code",
   "execution_count": 4,
   "metadata": {
    "collapsed": false
   },
   "outputs": [
    {
     "name": "stdout",
     "output_type": "stream",
     "text": [
      "{u'50per': 54.85158047638317, u'90per': 53.820155732562135, u'5per': 55.28937117287276, u'70per': 54.51151175866086, u'30per': 54.312614499544196, u'10per': 54.41327650537736}\n"
     ]
    }
   ],
   "source": [
    "for j in jobs:\n",
    "    print(j['stats']['training']['avg_loss_train_details'])\n",
    "    break"
   ]
  },
  {
   "cell_type": "code",
   "execution_count": 5,
   "metadata": {
    "collapsed": false
   },
   "outputs": [],
   "source": [
    "df = pd.DataFrame()\n",
    "df['hypers'] = [j['content'] for j in jobs]\n",
    "cst = 784.\n",
    "def get_details(name, subname, j):\n",
    "    if name + '_details' in j['stats']['training']:\n",
    "        return j['stats']['training']['avg_loss_train_fix_details'][subname] / cst\n",
    "    else:\n",
    "        return np.nan\n",
    "    \n",
    "earlys = ('5per', '10per', '30per', '50per', '70per', '90per')\n",
    "for k in earlys:\n",
    "    df['avg_loss_train_early_'  + k] = [get_details('avg_loss_train_fix', k, j)  for j in jobs]\n",
    "df['avg_loss_train'] = [j['stats']['training'].get('avg_loss_train_fix', np.nan) / cst  for j in jobs]\n",
    "df['jobset'] = [j['where'] for j in jobs]"
   ]
  },
  {
   "cell_type": "code",
   "execution_count": 6,
   "metadata": {
    "collapsed": false
   },
   "outputs": [],
   "source": [
    "colnames = set()\n",
    "for i in range(len(df)):\n",
    "    h = df['hypers'].iloc[i]\n",
    "    h = flatten_dict(h)\n",
    "    colnames |= set(h.keys())\n",
    "colnames = list(colnames)\n",
    "for col in colnames:\n",
    "    df[col] = df.apply(lambda r:flatten_dict((r['hypers'])).get(col), axis=1)\n",
    "df = df.dropna(axis=0, subset=['avg_loss_train'])\n",
    "for k in earlys:\n",
    "    df = df.dropna(axis=0, subset=['avg_loss_train_early_' + k])"
   ]
  },
  {
   "cell_type": "code",
   "execution_count": 7,
   "metadata": {
    "collapsed": false
   },
   "outputs": [],
   "source": [
    "cols = ['avg_loss_train_early_' + k for k in earlys[0:2]]\n",
    "cols += colnames\n",
    "df_x = df[cols]\n",
    "df_x = df_x.fillna(-1)\n",
    "df_x = pd.get_dummies(df_x)\n",
    "df_y = df['avg_loss_train']\n",
    "df_y_rel = (df[cols[1]] - df['avg_loss_train']) / (df['avg_loss_train'])"
   ]
  },
  {
   "cell_type": "code",
   "execution_count": 8,
   "metadata": {
    "collapsed": false
   },
   "outputs": [],
   "source": [
    "X_vect = df_x.values\n",
    "y_vect = df_y.values\n",
    "cols = (df_x.columns.values)"
   ]
  },
  {
   "cell_type": "code",
   "execution_count": 9,
   "metadata": {
    "collapsed": false
   },
   "outputs": [],
   "source": [
    "X_train, X_test, y_train, y_test = train_test_split(X_vect, y_vect, test_size=0.2)"
   ]
  },
  {
   "cell_type": "code",
   "execution_count": 10,
   "metadata": {
    "collapsed": false
   },
   "outputs": [
    {
     "name": "stdout",
     "output_type": "stream",
     "text": [
      "train    valid\n",
      "0.00003 0.01633\n",
      "0.00002 0.01639\n",
      "0.00003 0.01456\n",
      "0.00003 0.01654\n",
      "0.00002 0.01598\n",
      "mean valid:\n",
      "(0.015957520347367887, 0.00072375260028209793)\n"
     ]
    }
   ],
   "source": [
    "from sklearn.base import clone\n",
    "\n",
    "kernel = RBF()\n",
    "#reg = Ridge(alpha=10)\n",
    "#reg = LinearRegression()\n",
    "#reg = RandomForestRegressor(n_estimators=10, max_depth=10)\n",
    "#reg = DecisionTreeRegressor(max_depth=10, random_state=1)\n",
    "reg = GaussianProcessRegressor(normalize_y=True, n_restarts_optimizer=10)\n",
    "scores = []\n",
    "#for train, test in StratifiedShuffleSplit(y, n_iter=10, test_size=0.9, random_state=2):\n",
    "\n",
    "reg_orig = clone(reg)\n",
    "\n",
    "def S(reg, x, y):\n",
    "    return np.abs(reg.predict(x) - y).mean()\n",
    "    #return (np.abs(reg.predict(x) - y)/(y)).mean()\n",
    "print('train    valid')\n",
    "regs = []\n",
    "\n",
    "#for train, test in ShuffleSplit(len(X_train), n_iter=10, test_size=0.2, random_state=2):\n",
    "for train, test in KFold(len(X_train), n_folds=5, shuffle=True, random_state=2):\n",
    "    reg = clone(reg_orig)\n",
    "    reg.fit(X_train[train], y_train[train])\n",
    "    print('{:.5f} {:.5f}'.format(S(reg, X_train[train], y_train[train]), S(reg, X_train[test], y_train[test])))\n",
    "    score = S(reg, X_train[test], y_train[test])\n",
    "    scores.append(score)\n",
    "    regs.append(reg)\n",
    "print('mean valid:')\n",
    "print(np.mean(scores), np.std(scores))"
   ]
  },
  {
   "cell_type": "code",
   "execution_count": 11,
   "metadata": {
    "collapsed": false
   },
   "outputs": [
    {
     "name": "stdout",
     "output_type": "stream",
     "text": [
      "0.0206489505572\n",
      "0.0202150497009\n",
      "0.0217006186461\n",
      "0.020169049381\n",
      "0.020348446261\n",
      "ens:\n",
      "0.0195695069546\n"
     ]
    },
    {
     "name": "stderr",
     "output_type": "stream",
     "text": [
      "/home/ubuntu/work/code/external/scikit-learn/sklearn/gaussian_process/gpr.py:304: UserWarning: Predicted variances smaller than 0. Setting those variances to 0.\n",
      "  warnings.warn(\"Predicted variances smaller than 0. \"\n"
     ]
    }
   ],
   "source": [
    "final_reg = EnsembleRegressor(regs)\n",
    "for r in regs:\n",
    "    print(S(r, X_test, y_test))\n",
    "print('ens:')\n",
    "print(S(final_reg, X_test, y_test))\n",
    "m, s = final_reg.predict(X_test, return_std=True)\n",
    "mr, sr = reg.predict(X_test, return_std=True)"
   ]
  },
  {
   "cell_type": "code",
   "execution_count": 12,
   "metadata": {
    "collapsed": false
   },
   "outputs": [
    {
     "name": "stdout",
     "output_type": "stream",
     "text": [
      "('ens std avg:', 0.013862360073774345)\n",
      "('one std avg:', 0.031040349437140562)\n"
     ]
    }
   ],
   "source": [
    "print('ens std avg:', np.sqrt((s**2).sum()/(len(s)**2)))\n",
    "print('one std avg:', np.sqrt((sr**2).sum()/(len(sr)**2)))"
   ]
  },
  {
   "cell_type": "code",
   "execution_count": 13,
   "metadata": {
    "collapsed": false
   },
   "outputs": [
    {
     "data": {
      "text/html": [
       "<div>\n",
       "<table border=\"1\" class=\"dataframe\">\n",
       "  <thead>\n",
       "    <tr style=\"text-align: right;\">\n",
       "      <th></th>\n",
       "      <th>pred</th>\n",
       "      <th>real</th>\n",
       "      <th>std</th>\n",
       "      <th>std_r</th>\n",
       "    </tr>\n",
       "  </thead>\n",
       "  <tbody>\n",
       "    <tr>\n",
       "      <th>195</th>\n",
       "      <td>8.983374</td>\n",
       "      <td>8.987247</td>\n",
       "      <td>1.371668</td>\n",
       "      <td>2.773740</td>\n",
       "    </tr>\n",
       "    <tr>\n",
       "      <th>383</th>\n",
       "      <td>21.620930</td>\n",
       "      <td>23.788352</td>\n",
       "      <td>3.492512</td>\n",
       "      <td>3.221785</td>\n",
       "    </tr>\n",
       "    <tr>\n",
       "      <th>116</th>\n",
       "      <td>33.457085</td>\n",
       "      <td>22.182833</td>\n",
       "      <td>340.182097</td>\n",
       "      <td>755.355604</td>\n",
       "    </tr>\n",
       "    <tr>\n",
       "      <th>115</th>\n",
       "      <td>18.261424</td>\n",
       "      <td>7.759095</td>\n",
       "      <td>276.933253</td>\n",
       "      <td>560.067863</td>\n",
       "    </tr>\n",
       "    <tr>\n",
       "      <th>208</th>\n",
       "      <td>10.255610</td>\n",
       "      <td>14.873201</td>\n",
       "      <td>2.577698</td>\n",
       "      <td>5.040628</td>\n",
       "    </tr>\n",
       "    <tr>\n",
       "      <th>17</th>\n",
       "      <td>41.557417</td>\n",
       "      <td>44.386430</td>\n",
       "      <td>12.122965</td>\n",
       "      <td>1.930693</td>\n",
       "    </tr>\n",
       "    <tr>\n",
       "      <th>80</th>\n",
       "      <td>14.830377</td>\n",
       "      <td>14.636203</td>\n",
       "      <td>0.544207</td>\n",
       "      <td>0.473687</td>\n",
       "    </tr>\n",
       "    <tr>\n",
       "      <th>252</th>\n",
       "      <td>33.299917</td>\n",
       "      <td>4.037952</td>\n",
       "      <td>350.615453</td>\n",
       "      <td>784.000000</td>\n",
       "    </tr>\n",
       "    <tr>\n",
       "      <th>79</th>\n",
       "      <td>7.964585</td>\n",
       "      <td>7.976346</td>\n",
       "      <td>1.356004</td>\n",
       "      <td>2.706893</td>\n",
       "    </tr>\n",
       "    <tr>\n",
       "      <th>149</th>\n",
       "      <td>33.305195</td>\n",
       "      <td>74.753866</td>\n",
       "      <td>350.615459</td>\n",
       "      <td>784.000000</td>\n",
       "    </tr>\n",
       "    <tr>\n",
       "      <th>399</th>\n",
       "      <td>29.219370</td>\n",
       "      <td>29.164351</td>\n",
       "      <td>0.471044</td>\n",
       "      <td>1.549417</td>\n",
       "    </tr>\n",
       "    <tr>\n",
       "      <th>225</th>\n",
       "      <td>0.377827</td>\n",
       "      <td>0.382312</td>\n",
       "      <td>0.494416</td>\n",
       "      <td>1.380250</td>\n",
       "    </tr>\n",
       "    <tr>\n",
       "      <th>373</th>\n",
       "      <td>30.705103</td>\n",
       "      <td>30.731985</td>\n",
       "      <td>1.220362</td>\n",
       "      <td>0.769319</td>\n",
       "    </tr>\n",
       "    <tr>\n",
       "      <th>94</th>\n",
       "      <td>19.343569</td>\n",
       "      <td>18.684458</td>\n",
       "      <td>19.854087</td>\n",
       "      <td>15.199633</td>\n",
       "    </tr>\n",
       "    <tr>\n",
       "      <th>53</th>\n",
       "      <td>7.546536</td>\n",
       "      <td>7.547243</td>\n",
       "      <td>1.762678</td>\n",
       "      <td>5.754934</td>\n",
       "    </tr>\n",
       "    <tr>\n",
       "      <th>378</th>\n",
       "      <td>15.628947</td>\n",
       "      <td>14.843792</td>\n",
       "      <td>3.259962</td>\n",
       "      <td>2.340482</td>\n",
       "    </tr>\n",
       "    <tr>\n",
       "      <th>283</th>\n",
       "      <td>33.305195</td>\n",
       "      <td>56.606826</td>\n",
       "      <td>350.615459</td>\n",
       "      <td>784.000000</td>\n",
       "    </tr>\n",
       "    <tr>\n",
       "      <th>183</th>\n",
       "      <td>29.097297</td>\n",
       "      <td>24.921661</td>\n",
       "      <td>291.590452</td>\n",
       "      <td>622.308952</td>\n",
       "    </tr>\n",
       "    <tr>\n",
       "      <th>256</th>\n",
       "      <td>59.535116</td>\n",
       "      <td>46.041488</td>\n",
       "      <td>320.168043</td>\n",
       "      <td>756.864697</td>\n",
       "    </tr>\n",
       "    <tr>\n",
       "      <th>247</th>\n",
       "      <td>33.265134</td>\n",
       "      <td>0.016979</td>\n",
       "      <td>350.615142</td>\n",
       "      <td>783.999114</td>\n",
       "    </tr>\n",
       "    <tr>\n",
       "      <th>321</th>\n",
       "      <td>5.519774</td>\n",
       "      <td>5.479628</td>\n",
       "      <td>1.045006</td>\n",
       "      <td>3.701621</td>\n",
       "    </tr>\n",
       "    <tr>\n",
       "      <th>61</th>\n",
       "      <td>44.467111</td>\n",
       "      <td>44.193589</td>\n",
       "      <td>5.274957</td>\n",
       "      <td>2.039111</td>\n",
       "    </tr>\n",
       "    <tr>\n",
       "      <th>314</th>\n",
       "      <td>33.305195</td>\n",
       "      <td>19.918556</td>\n",
       "      <td>350.615459</td>\n",
       "      <td>784.000000</td>\n",
       "    </tr>\n",
       "    <tr>\n",
       "      <th>205</th>\n",
       "      <td>31.726069</td>\n",
       "      <td>28.183573</td>\n",
       "      <td>340.750453</td>\n",
       "      <td>756.215264</td>\n",
       "    </tr>\n",
       "    <tr>\n",
       "      <th>258</th>\n",
       "      <td>13.524670</td>\n",
       "      <td>11.187969</td>\n",
       "      <td>11.336933</td>\n",
       "      <td>7.707517</td>\n",
       "    </tr>\n",
       "    <tr>\n",
       "      <th>77</th>\n",
       "      <td>0.449116</td>\n",
       "      <td>0.450531</td>\n",
       "      <td>0.343115</td>\n",
       "      <td>0.000000</td>\n",
       "    </tr>\n",
       "    <tr>\n",
       "      <th>235</th>\n",
       "      <td>33.314399</td>\n",
       "      <td>35.160922</td>\n",
       "      <td>213.080019</td>\n",
       "      <td>537.209497</td>\n",
       "    </tr>\n",
       "    <tr>\n",
       "      <th>274</th>\n",
       "      <td>79.930556</td>\n",
       "      <td>72.762274</td>\n",
       "      <td>307.160248</td>\n",
       "      <td>702.674675</td>\n",
       "    </tr>\n",
       "    <tr>\n",
       "      <th>331</th>\n",
       "      <td>0.410851</td>\n",
       "      <td>0.423488</td>\n",
       "      <td>0.618601</td>\n",
       "      <td>1.245520</td>\n",
       "    </tr>\n",
       "    <tr>\n",
       "      <th>219</th>\n",
       "      <td>33.234765</td>\n",
       "      <td>31.141984</td>\n",
       "      <td>8.248543</td>\n",
       "      <td>3.465324</td>\n",
       "    </tr>\n",
       "  </tbody>\n",
       "</table>\n",
       "</div>"
      ],
      "text/plain": [
       "          pred       real         std       std_r\n",
       "195   8.983374   8.987247    1.371668    2.773740\n",
       "383  21.620930  23.788352    3.492512    3.221785\n",
       "116  33.457085  22.182833  340.182097  755.355604\n",
       "115  18.261424   7.759095  276.933253  560.067863\n",
       "208  10.255610  14.873201    2.577698    5.040628\n",
       "17   41.557417  44.386430   12.122965    1.930693\n",
       "80   14.830377  14.636203    0.544207    0.473687\n",
       "252  33.299917   4.037952  350.615453  784.000000\n",
       "79    7.964585   7.976346    1.356004    2.706893\n",
       "149  33.305195  74.753866  350.615459  784.000000\n",
       "399  29.219370  29.164351    0.471044    1.549417\n",
       "225   0.377827   0.382312    0.494416    1.380250\n",
       "373  30.705103  30.731985    1.220362    0.769319\n",
       "94   19.343569  18.684458   19.854087   15.199633\n",
       "53    7.546536   7.547243    1.762678    5.754934\n",
       "378  15.628947  14.843792    3.259962    2.340482\n",
       "283  33.305195  56.606826  350.615459  784.000000\n",
       "183  29.097297  24.921661  291.590452  622.308952\n",
       "256  59.535116  46.041488  320.168043  756.864697\n",
       "247  33.265134   0.016979  350.615142  783.999114\n",
       "321   5.519774   5.479628    1.045006    3.701621\n",
       "61   44.467111  44.193589    5.274957    2.039111\n",
       "314  33.305195  19.918556  350.615459  784.000000\n",
       "205  31.726069  28.183573  340.750453  756.215264\n",
       "258  13.524670  11.187969   11.336933    7.707517\n",
       "77    0.449116   0.450531    0.343115    0.000000\n",
       "235  33.314399  35.160922  213.080019  537.209497\n",
       "274  79.930556  72.762274  307.160248  702.674675\n",
       "331   0.410851   0.423488    0.618601    1.245520\n",
       "219  33.234765  31.141984    8.248543    3.465324"
      ]
     },
     "execution_count": 13,
     "metadata": {},
     "output_type": "execute_result"
    }
   ],
   "source": [
    "pd.DataFrame({'pred': m*784, 'std': s*784,  'std_r':sr*784, 'real': y_test * 784}).sample(30)"
   ]
  },
  {
   "cell_type": "code",
   "execution_count": 14,
   "metadata": {
    "collapsed": false
   },
   "outputs": [
    {
     "data": {
      "text/plain": [
       "<matplotlib.text.Text at 0x7f1dc678fe10>"
      ]
     },
     "execution_count": 14,
     "metadata": {},
     "output_type": "execute_result"
    },
    {
     "data": {
      "image/png": "[encoded data removed]",
      "text/plain": [
       "<matplotlib.figure.Figure at 0x7f1dc56ee390>"
      ]
     },
     "metadata": {},
     "output_type": "display_data"
    }
   ],
   "source": [
    "plt.scatter(X_test[:, 0]*cst, y_test*cst, c='r')\n",
    "plt.scatter(X_test[:, 0]*cst, final_reg.predict(X_test)*cst, c='b')\n",
    "plt.title(cols[0])\n",
    "plt.ylabel('avg_loss_train_last')"
   ]
  },
  {
   "cell_type": "code",
   "execution_count": 15,
   "metadata": {
    "collapsed": false
   },
   "outputs": [
    {
     "data": {
      "text/plain": [
       "<matplotlib.text.Text at 0x7f1dc6624710>"
      ]
     },
     "execution_count": 15,
     "metadata": {},
     "output_type": "execute_result"
    },
    {
     "data": {
      "image/png": "[encoded data removed]",
      "text/plain": [
       "<matplotlib.figure.Figure at 0x7f1dc663bf90>"
      ]
     },
     "metadata": {},
     "output_type": "display_data"
    }
   ],
   "source": [
    "plt.scatter(X_test[:, 1]*cst, y_test*cst, c='r')\n",
    "plt.scatter(X_test[:, 1]*cst, final_reg.predict(X_test)*cst, c='b')\n",
    "plt.title(cols[1])\n",
    "plt.ylabel('avg_loss_train_last')"
   ]
  },
  {
   "cell_type": "code",
   "execution_count": 16,
   "metadata": {
    "collapsed": false
   },
   "outputs": [
    {
     "name": "stdout",
     "output_type": "stream",
     "text": [
      "0.25\n"
     ]
    }
   ],
   "source": [
    "print((s>sr).mean())"
   ]
  },
  {
   "cell_type": "code",
   "execution_count": 23,
   "metadata": {
    "collapsed": false
   },
   "outputs": [
    {
     "name": "stdout",
     "output_type": "stream",
     "text": [
      "     a   b\n",
      "0  4.0   2\n",
      "1  5.0   3\n",
      "2  NaN  10\n"
     ]
    }
   ],
   "source": [
    "import collections\n",
    "import pandas as pd\n",
    "\n",
    "def dicts_to_dataframes(dlist, colnames=None):\n",
    "    dlist = map(flatten_dict, dlist)\n",
    "    colnames = set(k for d in dlist for k in d.keys())\n",
    "    df = pd.DataFrame()\n",
    "    df = pd.DataFrame(dlist)\n",
    "    #for col in colnames:\n",
    "    #    df[col] = [d.get(col) for d in dlist]\n",
    "    return df\n",
    "\n",
    "def flatten_dict(l):\n",
    "    d = {}\n",
    "    for k, v in l.items():\n",
    "        if isinstance(v, collections.Mapping):\n",
    "            d.update(flatten_dict(v))\n",
    "        elif isinstance(v, list) or isinstance(v, tuple):\n",
    "            for i, l in enumerate(v):\n",
    "                d[k+'_{}'.format(i)] = l\n",
    "        else:\n",
    "            d[k] = v\n",
    "    return d\n",
    "  \n",
    "dataset = [\n",
    "  {'a': 4, 'b': 2},\n",
    "  {'a': 5, 'b': 3},\n",
    "  {'b': 10}\n",
    "]\n",
    "dataset = dicts_to_dataframes(dataset)\n",
    "print(dataset)"
   ]
  },
  {
   "cell_type": "code",
   "execution_count": 113,
   "metadata": {
    "collapsed": false
   },
   "outputs": [
    {
     "name": "stdout",
     "output_type": "stream",
     "text": [
      "(4, 2)\n"
     ]
    },
    {
     "data": {
      "text/plain": [
       "[<matplotlib.lines.Line2D at 0x7f1d7b04bc50>,\n",
       " <matplotlib.lines.Line2D at 0x7f1d7ae58e10>]"
      ]
     },
     "execution_count": 113,
     "metadata": {},
     "output_type": "execute_result"
    },
    {
     "data": {
      "image/png": "[encoded data removed]",
      "text/plain": [
       "<matplotlib.figure.Figure at 0x7f1d7af38050>"
      ]
     },
     "metadata": {},
     "output_type": "display_data"
    }
   ],
   "source": [
    "from sklearn.gaussian_process import GaussianProcessRegressor\n",
    "nb = 10\n",
    "x = np.linspace(-1, 1, 4)\n",
    "y = x**2 + np.random.normal(0, 1, size=x.shape)\n",
    "gp = GaussianProcessRegressor()\n",
    "\n",
    "gp.fit(x[:, np.newaxis] ,y)\n",
    "plt.scatter(x, y)\n",
    "\n",
    "ypred = gp.predict(x[:, np.newaxis])\n",
    "y_s = gp.sample_y(x[:, np.newaxis], n_samples=2)\n",
    "print(y_s.shape)\n",
    "#plt.scatter(x, ypred, c='r')\n",
    "plt.plot(x, y_s, c='g')"
   ]
  }
 ],
 "metadata": {
  "kernelspec": {
   "display_name": "Python 2",
   "language": "python",
   "name": "python2"
  },
  "language_info": {
   "codemirror_mode": {
    "name": "ipython",
    "version": 2
   },
   "file_extension": ".py",
   "mimetype": "text/x-python",
   "name": "python",
   "nbconvert_exporter": "python",
   "pygments_lexer": "ipython2",
   "version": "2.7.12"
  }
 },
 "nbformat": 4,
 "nbformat_minor": 0
}
