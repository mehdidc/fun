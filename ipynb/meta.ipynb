{
 "cells": [
  {
   "cell_type": "code",
   "execution_count": 6,
   "metadata": {
    "collapsed": true
   },
   "outputs": [],
   "source": [
    "import numpy as np\n",
    "import pandas as pd\n",
    "from lasagnekit.easy import SimpleNeuralNet\n",
    "from sklearn.preprocessing import StandardScaler\n",
    "\n",
    "from sklearn.datasets import covtype\n",
    "\n",
    "a = covtype.fetch_covtype()\n",
    "X, y = a['data'], a['target']\n",
    "X, y = X[0:1000], y[0:1000]"
   ]
  },
  {
   "cell_type": "code",
   "execution_count": 2,
   "metadata": {
    "collapsed": false
   },
   "outputs": [
    {
     "data": {
      "text/html": [
       "<div>\n",
       "<table border=\"1\" class=\"dataframe\">\n",
       "  <thead>\n",
       "    <tr style=\"text-align: right;\">\n",
       "      <th></th>\n",
       "      <th>Unnamed: 0</th>\n",
       "      <th>n_estimators</th>\n",
       "      <th>max_leaf_nodes</th>\n",
       "      <th>max_features</th>\n",
       "      <th>train_size</th>\n",
       "      <th>train_time</th>\n",
       "      <th>test_time</th>\n",
       "      <th>train_score</th>\n",
       "      <th>test_score</th>\n",
       "    </tr>\n",
       "  </thead>\n",
       "  <tbody>\n",
       "    <tr>\n",
       "      <th>0</th>\n",
       "      <td>0</td>\n",
       "      <td>6</td>\n",
       "      <td>10</td>\n",
       "      <td>1</td>\n",
       "      <td>1133</td>\n",
       "      <td>0.011134</td>\n",
       "      <td>0.156570</td>\n",
       "      <td>0.553800</td>\n",
       "      <td>0.524628</td>\n",
       "    </tr>\n",
       "    <tr>\n",
       "      <th>1</th>\n",
       "      <td>1</td>\n",
       "      <td>86</td>\n",
       "      <td>2</td>\n",
       "      <td>3</td>\n",
       "      <td>12</td>\n",
       "      <td>0.049054</td>\n",
       "      <td>0.497989</td>\n",
       "      <td>0.364304</td>\n",
       "      <td>0.587519</td>\n",
       "    </tr>\n",
       "    <tr>\n",
       "      <th>2</th>\n",
       "      <td>2</td>\n",
       "      <td>4</td>\n",
       "      <td>2</td>\n",
       "      <td>31</td>\n",
       "      <td>1</td>\n",
       "      <td>0.003118</td>\n",
       "      <td>0.043690</td>\n",
       "      <td>0.000000</td>\n",
       "      <td>1.471313</td>\n",
       "    </tr>\n",
       "    <tr>\n",
       "      <th>3</th>\n",
       "      <td>3</td>\n",
       "      <td>1</td>\n",
       "      <td>2</td>\n",
       "      <td>60</td>\n",
       "      <td>4341</td>\n",
       "      <td>0.010096</td>\n",
       "      <td>0.022070</td>\n",
       "      <td>0.531252</td>\n",
       "      <td>0.526109</td>\n",
       "    </tr>\n",
       "    <tr>\n",
       "      <th>4</th>\n",
       "      <td>4</td>\n",
       "      <td>1</td>\n",
       "      <td>2</td>\n",
       "      <td>78</td>\n",
       "      <td>182</td>\n",
       "      <td>0.001488</td>\n",
       "      <td>0.023952</td>\n",
       "      <td>0.522918</td>\n",
       "      <td>0.511171</td>\n",
       "    </tr>\n",
       "  </tbody>\n",
       "</table>\n",
       "</div>"
      ],
      "text/plain": [
       "   Unnamed: 0  n_estimators  max_leaf_nodes  max_features  train_size  \\\n",
       "0           0             6              10             1        1133   \n",
       "1           1            86               2             3          12   \n",
       "2           2             4               2            31           1   \n",
       "3           3             1               2            60        4341   \n",
       "4           4             1               2            78         182   \n",
       "\n",
       "   train_time  test_time  train_score  test_score  \n",
       "0    0.011134   0.156570     0.553800    0.524628  \n",
       "1    0.049054   0.497989     0.364304    0.587519  \n",
       "2    0.003118   0.043690     0.000000    1.471313  \n",
       "3    0.010096   0.022070     0.531252    0.526109  \n",
       "4    0.001488   0.023952     0.522918    0.511171  "
      ]
     },
     "execution_count": 2,
     "metadata": {},
     "output_type": "execute_result"
    }
   ],
   "source": [
    "df = pd.read_csv(\"hyperEarth/meta.csv\")\n",
    "df.head()"
   ]
  },
  {
   "cell_type": "code",
   "execution_count": 3,
   "metadata": {
    "collapsed": false
   },
   "outputs": [
    {
     "name": "stderr",
     "output_type": "stream",
     "text": [
      "/home/mehdi/work/code/scikit-learn/lib/sklearn/utils/validation.py:493: UserWarning: StandardScaler assumes floating point values as input, got int64\n",
      "  \"got %s\" % (estimator, X.dtype))\n"
     ]
    }
   ],
   "source": [
    "X= df[[\"n_estimators\", \"max_leaf_nodes\", \"max_features\", \"train_size\"]]\n",
    "y = df[[\"train_time\", \"test_time\", \"train_score\", \"test_score\"]]\n",
    "\n",
    "X = StandardScaler().fit_transform(X)\n",
    "y = df[\"test_score\"].values"
   ]
  },
  {
   "cell_type": "code",
   "execution_count": null,
   "metadata": {
    "collapsed": false
   },
   "outputs": [],
   "source": [
    "%%time\n",
    "from pyearth import Earth\n",
    "from sklearn.cross_validation import KFold, ShuffleSplit\n",
    "from sklearn.ensemble import RandomForestRegressor, AdaBoostRegressor\n",
    "from sklearn.gaussian_process import GaussianProcess\n",
    "from sklearn.linear_model import BayesianRidge\n",
    "from sklearn.ensemble import GradientBoostingRegressor\n",
    "from sklearn.linear_model import SGDRegressor, LinearRegression\n",
    "c = []\n",
    "for train, test in ShuffleSplit(X.shape[0], test_size=0.25):\n",
    "    \n",
    "    x_train, y_train = X[train], y[train]\n",
    "    x_test, y_test = X[test], y[test]\n",
    "    \n",
    "    model = Earth(max_degree=10,\n",
    "                  max_terms=200,\n",
    "                  use_fast=True,\n",
    "                  fast_K=10,\n",
    "                  fast_h=5,\n",
    "                  thresh=0.)\n",
    "    model.fit(x_train, y_train)\n",
    "    print(model.summary())\n",
    "    #rint(model.summary())\n",
    "    \n",
    "    #model = RandomForestRegressor()\n",
    "    #model.fit(x_train, y_train)\n",
    "    \n",
    "    #model =AdaBoostRegressor()\n",
    "    #model.fit(x_train, y_train)\n",
    "    \n",
    "    #model = GradientBoostingRegressor(max_depth=100, n_estimators=200, alpha=0.8)\n",
    "    #model.fit(x_train, y_train)\n",
    "        \n",
    "    #print(model.coef_)\n",
    "    \n",
    "    #model = LinearRegression()\n",
    "    #model.fit(x_train, y_train)\n",
    "    #odel = SimpleNeuralNet(is_classification=False, \n",
    "    #                      nb_hidden_list=[300], \n",
    "    #                     learning_rate=0.,\n",
    "    #                      max_nb_epochs=20,\n",
    "    #                      verbose=0,\n",
    "    #                      activations=[\"relu\", \"relu\"])\n",
    "    #del.fit(x_train, y_train) \n",
    "    a = ((model.predict(x_test) - y_test)**2).mean()\n",
    "    c.append(a)\n",
    "    print(a)\n",
    "c = np.array(c)\n",
    "print(c)\n",
    "print(c.mean(), c.std())\n",
    "#print(model.summary())"
   ]
  }
 ],
 "metadata": {
  "kernelspec": {
   "display_name": "Python 2",
   "language": "python",
   "name": "python2"
  },
  "language_info": {
   "codemirror_mode": {
    "name": "ipython",
    "version": 2
   },
   "file_extension": ".py",
   "mimetype": "text/x-python",
   "name": "python",
   "nbconvert_exporter": "python",
   "pygments_lexer": "ipython2",
   "version": "2.7.10"
  }
 },
 "nbformat": 4,
 "nbformat_minor": 0
}
