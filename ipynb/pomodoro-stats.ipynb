{
 "cells": [
  {
   "cell_type": "code",
   "execution_count": null,
   "metadata": {
    "collapsed": false
   },
   "outputs": [],
   "source": [
    "import numpy as np\n",
    "import pandas as pd\n",
    "import matplotlib.pyplot as plt\n",
    "from datetime import datetime\n",
    "from datetime import timedelta\n",
    "%matplotlib inline"
   ]
  },
  {
   "cell_type": "code",
   "execution_count": null,
   "metadata": {
    "collapsed": false
   },
   "outputs": [],
   "source": [
    "data = pd.read_csv(\"~/work/code/my_scripts/.pomodoro\",\n",
    "                     parse_dates=[\"start\"])"
   ]
  },
  {
   "cell_type": "code",
   "execution_count": null,
   "metadata": {
    "collapsed": false
   },
   "outputs": [],
   "source": [
    "data.head()\n",
    "data = (data.loc[data[\"work\"]==\"work\"])"
   ]
  },
  {
   "cell_type": "code",
   "execution_count": null,
   "metadata": {
    "collapsed": false
   },
   "outputs": [],
   "source": [
    "data[\"day\"] = data[\"start\"]\n",
    "data[\"day\"] = data[\"day\"].apply(lambda x:x.date())"
   ]
  },
  {
   "cell_type": "code",
   "execution_count": null,
   "metadata": {
    "collapsed": false
   },
   "outputs": [],
   "source": [
    "duration_per_day = data.groupby(\"day\").sum() / 60.\n",
    "duration_per_day.index = duration_per_day.index.to_datetime()\n",
    "duration_per_day.plot(figsize=(10, 10), x_compat=True)\n",
    "plt.show()"
   ]
  },
  {
   "cell_type": "code",
   "execution_count": null,
   "metadata": {
    "collapsed": false
   },
   "outputs": [],
   "source": [
    "d = pd.date_range(duration_per_day.index[0], duration_per_day.index[-1])\n",
    "e = pd.DataFrame(index=d)\n",
    "#duration_per_day_full = pd.merge(e, duration_per_day, how='left', left_index=True, right_index=True)\n",
    "duration_per_day_full = pd.merge(e, duration_per_day, how='left', left_index=True, right_index=True)\n",
    "duration_per_day_full[\"duration\"] = duration_per_day_full[\"duration\"].fillna(0)\n",
    "duration_per_day_full.to_csv(\"pomodoro.csv\")"
   ]
  },
  {
   "cell_type": "code",
   "execution_count": null,
   "metadata": {
    "collapsed": false
   },
   "outputs": [],
   "source": [
    "last_monday = datetime.today() - timedelta(days=datetime.today().weekday()+1)\n",
    "last_monday -= timedelta(days=7) * 0\n",
    "next_sunday = last_monday + timedelta(days=7)\n",
    "f1 = duration_per_day_full.index>=last_monday\n",
    "f2 = duration_per_day_full.index<=next_sunday\n",
    "duration_per_day_full[f1 & f2].plot(kind=\"bar\")\n",
    "print(duration_per_day_full[f1 & f2].sum())\n",
    "print(duration_per_day_full)"
   ]
  },
  {
   "cell_type": "code",
   "execution_count": null,
   "metadata": {
    "collapsed": false
   },
   "outputs": [],
   "source": [
    "duration_per_day_full.plot()"
   ]
  },
  {
   "cell_type": "code",
   "execution_count": null,
   "metadata": {
    "collapsed": false
   },
   "outputs": [],
   "source": [
    "import calendar\n",
    "from datetime import timedelta\n",
    "D = data.copy()\n",
    "weekmap = [\"Monday\", \"Tuesday\", \"Wednesday\", \"Thursday\", \"Friday\", \"Saturday\", \"Sunday\"]\n",
    "D[\"day\"] = D[\"start\"].map(lambda x:x.weekday())\n",
    "D[\"dayname\"] = D[\"start\"].map(lambda x:weekmap[x.weekday()])\n",
    "\n",
    "sum_up = False\n",
    "previous_weeks = -1# if -1 consider previous_n_weeks, if >= 0 consider current week for 0, then previous week etc\n",
    "\n",
    "last_monday = datetime.today() - timedelta(days=datetime.today().weekday())\n",
    "last_monday -= previous_weeks * timedelta(days=7)\n",
    "next_sunday = last_monday + timedelta(days=6)\n",
    "\n",
    "if previous_weeks >= 0:\n",
    "    D = D[D.start>=last_monday]\n",
    "\n",
    "if sum_up is False:\n",
    "    D = D[D.start<=next_sunday]\n",
    "\n",
    "D = D.groupby(by=(\"day\", \"dayname\"))\n",
    "D = D.sum()/60.\n",
    "print(D)\n",
    "print(D.sum())\n",
    "D = D.reset_index().plot(kind=\"bar\", title=\"hours per day\", \n",
    "                                      x=\"dayname\", y=\"duration\")\n"
   ]
  },
  {
   "cell_type": "code",
   "execution_count": null,
   "metadata": {
    "collapsed": false
   },
   "outputs": [],
   "source": [
    "per_day = (data.groupby(by=\"day\")).sum()/60.\n",
    "print(per_day.mean())\n",
    "print(per_day.std())"
   ]
  },
  {
   "cell_type": "code",
   "execution_count": null,
   "metadata": {
    "collapsed": false
   },
   "outputs": [],
   "source": [
    "import calendar\n",
    "mapping = lambda x: x.isocalendar()[1]\n",
    "(data.set_index(\"day\").groupby(mapping).sum()/60).plot(title=\"mins per week\")"
   ]
  },
  {
   "cell_type": "code",
   "execution_count": null,
   "metadata": {
    "collapsed": false
   },
   "outputs": [],
   "source": [
    "print(\"per day\")\n",
    "(data.set_index(\"day\").groupby(mapping).sum().mean())/24"
   ]
  }
 ],
 "metadata": {
  "kernelspec": {
   "display_name": "Python 2",
   "language": "python",
   "name": "python2"
  },
  "language_info": {
   "codemirror_mode": {
    "name": "ipython",
    "version": 2
   },
   "file_extension": ".py",
   "mimetype": "text/x-python",
   "name": "python",
   "nbconvert_exporter": "python",
   "pygments_lexer": "ipython2",
   "version": "2.7.11"
  }
 },
 "nbformat": 4,
 "nbformat_minor": 0
}
