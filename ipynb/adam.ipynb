{
 "cells": [
  {
   "cell_type": "code",
   "execution_count": 19,
   "metadata": {
    "collapsed": true
   },
   "outputs": [],
   "source": [
    "import numpy as np\n",
    "from collections import defaultdict"
   ]
  },
  {
   "cell_type": "code",
   "execution_count": 29,
   "metadata": {
    "collapsed": false
   },
   "outputs": [],
   "source": [
    "import _mysql\n",
    "import sys\n",
    "\n",
    "dates = defaultdict(list)\n",
    "sizes = defaultdict(list)\n",
    "\n",
    "try:\n",
    "    con = _mysql.connect('localhost', 'root', 'hougabouga', 'adam')\n",
    "        \n",
    "    con.query(\"SELECT date, SUM(total_length) as size FROM \"\n",
    "              \"db_sizes WHERE db_server_id=1 GROUP BY date\")\n",
    "    \n",
    "    \n",
    "    result = con.use_result()\n",
    "    while True:\n",
    "        t = result.fetch_row()\n",
    "        if len(t) == 0:\n",
    "            break\n",
    "        date, total_length = t[0]\n",
    "        \n",
    "        dates[0].append(date)\n",
    "        sizes[0].append(int(total_length))\n",
    "\n",
    "except _mysql.Error, e:\n",
    "  \n",
    "    print \"Error %d: %s\" % (e.args[0], e.args[1])\n",
    "    sys.exit(1)\n",
    "\n",
    "finally:\n",
    "    \n",
    "    if con:\n",
    "        con.close()"
   ]
  },
  {
   "cell_type": "code",
   "execution_count": 30,
   "metadata": {
    "collapsed": false,
    "scrolled": true
   },
   "outputs": [
    {
     "data": {
      "text/plain": [
       "defaultdict(<type 'list'>, {0: ['2015-07-22', '2015-07-23', '2015-07-24', '2015-07-25', '2015-07-26', '2015-07-27', '2015-07-28', '2015-07-29', '2015-07-30', '2015-07-31', '2015-08-01', '2015-08-02', '2015-08-03', '2015-08-04', '2015-08-05', '2015-08-06', '2015-08-07', '2015-08-08', '2015-08-09', '2015-08-10', '2015-08-11', '2015-08-12', '2015-08-13', '2015-08-14']})"
      ]
     },
     "execution_count": 30,
     "metadata": {},
     "output_type": "execute_result"
    }
   ],
   "source": [
    "dates"
   ]
  },
  {
   "cell_type": "code",
   "execution_count": null,
   "metadata": {
    "collapsed": true
   },
   "outputs": [],
   "source": []
  },
  {
   "cell_type": "code",
   "execution_count": 33,
   "metadata": {
    "collapsed": false
   },
   "outputs": [
    {
     "name": "stderr",
     "output_type": "stream",
     "text": [
      "/home/mehdi/anaconda/lib/python2.7/site-packages/GPy/util/linalg.py:48: UserWarning: warning: caught this exception:/home/mehdi/anaconda/lib/python2.7/site-packages/numpy/core/_dotblas.so: undefined symbol: dsyrk_\n",
      "  warnings.warn(\"warning: caught this exception:\" + str(e))\n",
      "/usr/lib/python2.7/dist-packages/pycuda/reduction.py:153: UserWarning: nvcc said it demoted types in source code it compiled--this is likely not what you want.\n",
      "  return SourceModule(src, options=options, keep=keep, no_extern_c=True)\n",
      "/usr/lib/python2.7/dist-packages/pycuda/reduction.py:153: UserWarning: The CUDA compiler suceeded, but said the following:\n",
      "/usr/lib/python2.7/dist-packages/pycuda/../../../../include/pycuda/pycuda-complex.hpp(555): warning: a __device__ function(\"pycuda::complex<double>::complex\") redeclared without __device__, hence treated as a __host__ __device__ function\n",
      "\n",
      "ptxas /tmp/tmpxft_00007c86_00000000-5_kernel.ptx, line 84; warning : Double is not supported. Demoting to float\n",
      "\n",
      "  return SourceModule(src, options=options, keep=keep, no_extern_c=True)\n",
      "/usr/lib/python2.7/dist-packages/pycuda/reduction.py:153: UserWarning: The CUDA compiler suceeded, but said the following:\n",
      "/usr/lib/python2.7/dist-packages/pycuda/../../../../include/pycuda/pycuda-complex.hpp(555): warning: a __device__ function(\"pycuda::complex<double>::complex\") redeclared without __device__, hence treated as a __host__ __device__ function\n",
      "\n",
      "ptxas /tmp/tmpxft_00007cb3_00000000-5_kernel.ptx, line 84; warning : Double is not supported. Demoting to float\n",
      "\n",
      "  return SourceModule(src, options=options, keep=keep, no_extern_c=True)\n",
      "/usr/lib/python2.7/dist-packages/pycuda/reduction.py:153: UserWarning: The CUDA compiler suceeded, but said the following:\n",
      "/usr/lib/python2.7/dist-packages/pycuda/../../../../include/pycuda/pycuda-complex.hpp(555): warning: a __device__ function(\"pycuda::complex<double>::complex\") redeclared without __device__, hence treated as a __host__ __device__ function\n",
      "\n",
      "ptxas /tmp/tmpxft_00007ce0_00000000-5_kernel.ptx, line 83; warning : Double is not supported. Demoting to float\n",
      "\n",
      "  return SourceModule(src, options=options, keep=keep, no_extern_c=True)\n",
      "/usr/lib/python2.7/dist-packages/pycuda/reduction.py:153: UserWarning: The CUDA compiler suceeded, but said the following:\n",
      "/usr/lib/python2.7/dist-packages/pycuda/../../../../include/pycuda/pycuda-complex.hpp(555): warning: a __device__ function(\"pycuda::complex<double>::complex\") redeclared without __device__, hence treated as a __host__ __device__ function\n",
      "\n",
      "ptxas /tmp/tmpxft_00007d14_00000000-5_kernel.ptx, line 85; warning : Double is not supported. Demoting to float\n",
      "\n",
      "  return SourceModule(src, options=options, keep=keep, no_extern_c=True)\n",
      "/usr/lib/python2.7/dist-packages/pycuda/reduction.py:153: UserWarning: The CUDA compiler suceeded, but said the following:\n",
      "/usr/lib/python2.7/dist-packages/pycuda/../../../../include/pycuda/pycuda-complex.hpp(555): warning: a __device__ function(\"pycuda::complex<double>::complex\") redeclared without __device__, hence treated as a __host__ __device__ function\n",
      "\n",
      "ptxas /tmp/tmpxft_00007d41_00000000-5_kernel.ptx, line 86; warning : Double is not supported. Demoting to float\n",
      "\n",
      "  return SourceModule(src, options=options, keep=keep, no_extern_c=True)\n"
     ]
    }
   ],
   "source": [
    "%matplotlib inline\n",
    "import matplotlib.pyplot as plt\n",
    "import GPy"
   ]
  },
  {
   "cell_type": "code",
   "execution_count": 147,
   "metadata": {
    "collapsed": false
   },
   "outputs": [
    {
     "data": {
      "text/plain": [
       "[<matplotlib.lines.Line2D at 0xa5c9b20c>]"
      ]
     },
     "execution_count": 147,
     "metadata": {},
     "output_type": "execute_result"
    },
    {
     "data": {
      "image/png": "[encoded data removed]",
      "text/plain": [
       "<matplotlib.figure.Figure at 0xa5f1e3cc>"
      ]
     },
     "metadata": {},
     "output_type": "display_data"
    }
   ],
   "source": [
    "plt.plot(y)"
   ]
  },
  {
   "cell_type": "code",
   "execution_count": 132,
   "metadata": {
    "collapsed": false
   },
   "outputs": [],
   "source": [
    "kern = GPy.kern.RBF(input_dim=1, variance=0.1, lengthscale=3)"
   ]
  },
  {
   "cell_type": "code",
   "execution_count": 146,
   "metadata": {
    "collapsed": false
   },
   "outputs": [],
   "source": [
    "X = np.arange(len(x))\n",
    "y = np.array(sizes[0])\n",
    "#y = np.arange(sizes[0])"
   ]
  },
  {
   "cell_type": "code",
   "execution_count": 143,
   "metadata": {
    "collapsed": false
   },
   "outputs": [
    {
     "data": {
      "text/html": [
       "\n",
       "<b>Model</b>: GP regression<br>\n",
       "<b>Log-likelihood</b>: -33.2315919291<br>\n",
       "<b>Number of Parameters</b>: 3<br>\n",
       "<br><b>Parameters</b>:\n",
       "<table>\n",
       "<tr>\n",
       "  <td><b>GP_regression.</b>\n",
       "  <td><b>Value</b></td>\n",
       "  <td><b>Constraint</b></td>\n",
       "  <td><b>Prior</b></td>\n",
       "  <td><b>Tied to</b></td>\n",
       "<tr><td>rbf.variance           </td><td align=\"right\">5.31054033548e+14</td><td>   +ve    </td><td>     </td><td>       </td></tr>\n",
       "<tr><td>rbf.lengthscale        </td><td align=\"right\"> 6.0325066542e+13</td><td>   +ve    </td><td>     </td><td>       </td></tr>\n",
       "<tr><td>Gaussian_noise.variance</td><td align=\"right\">   0.489880125645</td><td>   +ve    </td><td>     </td><td>       </td></tr>\n",
       "</table>"
      ],
      "text/plain": [
       "<GPy.models.gp_regression.GPRegression at 0xa5d355ac>"
      ]
     },
     "execution_count": 143,
     "metadata": {},
     "output_type": "execute_result"
    }
   ],
   "source": [
    "model = GPy.models.GPRegression(X[:, np.newaxis], y[:, np.newaxis], kernel=kern)\n",
    "model.optimize()\n",
    "model"
   ]
  },
  {
   "cell_type": "code",
   "execution_count": 144,
   "metadata": {
    "collapsed": false
   },
   "outputs": [
    {
     "data": {
      "text/plain": [
       "{'dataplot': [<matplotlib.lines.Line2D at 0xa5cd2cec>],\n",
       " 'gpplot': [[<matplotlib.lines.Line2D at 0xa5cca66c>],\n",
       "  [<matplotlib.patches.Polygon at 0xa5ccadcc>],\n",
       "  [<matplotlib.lines.Line2D at 0xa5ccaecc>],\n",
       "  [<matplotlib.lines.Line2D at 0xa5cd278c>]]}"
      ]
     },
     "execution_count": 144,
     "metadata": {},
     "output_type": "execute_result"
    },
    {
     "data": {
      "image/png": "[encoded data removed]",
      "text/plain": [
       "<matplotlib.figure.Figure at 0xa5d501cc>"
      ]
     },
     "metadata": {},
     "output_type": "display_data"
    }
   ],
   "source": [
    "model.plot()"
   ]
  }
 ],
 "metadata": {
  "kernelspec": {
   "display_name": "Python 2",
   "language": "python",
   "name": "python2"
  },
  "language_info": {
   "codemirror_mode": {
    "name": "ipython",
    "version": 2
   },
   "file_extension": ".py",
   "mimetype": "text/x-python",
   "name": "python",
   "nbconvert_exporter": "python",
   "pygments_lexer": "ipython2",
   "version": "2.7.10"
  }
 },
 "nbformat": 4,
 "nbformat_minor": 0
}
