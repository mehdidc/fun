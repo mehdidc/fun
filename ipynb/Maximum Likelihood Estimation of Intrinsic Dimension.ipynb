{
 "cells": [
  {
   "cell_type": "code",
   "execution_count": 1,
   "metadata": {
    "collapsed": false
   },
   "outputs": [
    {
     "name": "stdout",
     "output_type": "stream",
     "text": [
      "Requirement already satisfied (use --upgrade to upgrade): tqdm in /home/ubuntu/miniconda2/envs/databoard-env/lib/python2.7/site-packages\n",
      "\u001b[33mYou are using pip version 8.1.1, however version 8.1.2 is available.\n",
      "You should consider upgrading via the 'pip install --upgrade pip' command.\u001b[0m\n"
     ]
    }
   ],
   "source": [
    "%matplotlib inline\n",
    "!pip install tqdm\n",
    "import matplotlib.pyplot as plt\n",
    "import seaborn; seaborn.set()\n",
    "import os\n",
    "os.environ['DATA_PATH'] = '/root/work/data'"
   ]
  },
  {
   "cell_type": "code",
   "execution_count": 8,
   "metadata": {
    "collapsed": false
   },
   "outputs": [],
   "source": [
    "from tqdm import tqdm\n",
    "import pandas as pd\n",
    "import numpy as np\n",
    "from sklearn.neighbors import NearestNeighbors\n",
    "\n",
    "def intrinsic_dim_sample_wise(X, k=5):\n",
    "    neighb = NearestNeighbors(n_neighbors=k + 1).fit(X)\n",
    "    dist, ind = neighb.kneighbors(X)\n",
    "    dist = dist[:, 1:]\n",
    "    dist = dist[:, 0:k]\n",
    "    assert dist.shape == (X.shape[0], k)\n",
    "    assert np.all(dist > 0)\n",
    "    d = np.log(dist[:, k - 1: k] / dist[:, 0:k-1])\n",
    "    d = d.sum(axis=1) / (k - 2)\n",
    "    d = 1. / d\n",
    "    intdim_sample = d\n",
    "    return intdim_sample\n",
    "\n",
    "def intrinsic_dim_scale_interval(X, k1=10, k2=20):\n",
    "    X = pd.DataFrame(X).drop_duplicates().values # remove duplicates in case you use bootstrapping\n",
    "    intdim_k = []\n",
    "    for k in range(k1, k2 + 1):\n",
    "        m = intrinsic_dim_sample_wise(X, k).mean()\n",
    "        intdim_k.append(m)\n",
    "    return intdim_k\n",
    "\n",
    "def repeated(func, X, nb_iter=100, random_state=None, verbose=0, mode='bootstrap', **func_kw):\n",
    "    if random_state is None:\n",
    "        rng = np.random\n",
    "    else:\n",
    "        rng = np.random.RandomState(random_state)\n",
    "    nb_examples = X.shape[0]\n",
    "    results = []\n",
    "\n",
    "    iters = range(nb_iter)\n",
    "    if verbose > 0:\n",
    "        iters = tqdm(iters)    \n",
    "    for i in iters:\n",
    "        if mode == 'bootstrap':\n",
    "            Xr = X[rng.randint(0, nb_examples, size=nb_examples)]\n",
    "        elif mode == 'shuffle':\n",
    "            ind = np.arange(nb_examples)\n",
    "            rng.shuffle(ind)\n",
    "            Xr = X[ind]\n",
    "        elif mode == 'same':\n",
    "            Xr = X\n",
    "        else:\n",
    "            raise ValueError('unknown mode : {}'.format(mode))\n",
    "        results.append(func(Xr, **func_kw))\n",
    "    return results\n"
   ]
  },
  {
   "cell_type": "code",
   "execution_count": 9,
   "metadata": {
    "collapsed": true
   },
   "outputs": [],
   "source": [
    "from sklearn.datasets import make_swiss_roll\n",
    "X, _ = make_swiss_roll(1000)"
   ]
  },
  {
   "cell_type": "code",
   "execution_count": 10,
   "metadata": {
    "collapsed": false
   },
   "outputs": [
    {
     "name": "stderr",
     "output_type": "stream",
     "text": [
      "\n",
      "  0%|          | 0/1 [00:00<?, ?it/s]\u001b[A\n",
      "100%|██████████| 1/1 [00:00<00:00,  9.74it/s]\u001b[A\n",
      "\u001b[A"
     ]
    },
    {
     "data": {
      "text/plain": [
       "(array([ 0.,  0.,  0.,  0.,  0.,  1.,  0.,  0.,  0.,  0.]),\n",
       " array([ 1.43192309,  1.53192309,  1.63192309,  1.73192309,  1.83192309,\n",
       "         1.93192309,  2.03192309,  2.13192309,  2.23192309,  2.33192309,\n",
       "         2.43192309]),\n",
       " <a list of 10 Patch objects>)"
      ]
     },
     "execution_count": 10,
     "metadata": {},
     "output_type": "execute_result"
    },
    {
     "data": {
      "image/png": "[encoded data removed]",
      "text/plain": [
       "<matplotlib.figure.Figure at 0x7efda5f99950>"
      ]
     },
     "metadata": {},
     "output_type": "display_data"
    }
   ],
   "source": [
    "k1 = 10\n",
    "k2 = 20\n",
    "intdim_k_repeated = repeated(intrinsic_dim_scale_interval, \n",
    "                             X, mode='same', nb_iter=1, \n",
    "                             verbose=1, k1=k1, k2=k2)\n",
    "intdim_k_repeated = np.array(intdim_k_repeated)\n",
    "plt.hist(intdim_k_repeated.mean(axis=1))"
   ]
  },
  {
   "cell_type": "code",
   "execution_count": 16,
   "metadata": {
    "collapsed": false
   },
   "outputs": [],
   "source": [
    "from lasagnekit.datasets.mnist import MNIST\n",
    "data = MNIST()\n",
    "data.load()\n",
    "X = data.X[0:10000]"
   ]
  },
  {
   "cell_type": "code",
   "execution_count": null,
   "metadata": {
    "collapsed": false
   },
   "outputs": [
    {
     "name": "stderr",
     "output_type": "stream",
     "text": [
      "\n",
      "  0%|          | 0/100 [00:00<?, ?it/s]\u001b[A\n",
      "  1%|          | 1/100 [09:17<15:20:20, 557.79s/it]\u001b[A\n",
      "  2%|▏         | 2/100 [18:39<15:13:09, 559.07s/it]\u001b[A\n",
      "  3%|▎         | 3/100 [27:39<14:54:28, 553.28s/it]\u001b[A\n",
      "  4%|▍         | 4/100 [37:03<14:50:29, 556.56s/it]\u001b[A\n",
      "  5%|▌         | 5/100 [46:18<14:40:28, 556.09s/it]\u001b[A\n",
      "  6%|▌         | 6/100 [55:49<14:38:00, 560.43s/it]\u001b[A\n",
      "  7%|▋         | 7/100 [1:04:59<14:23:42, 557.23s/it]\u001b[A\n",
      "  8%|▊         | 8/100 [1:14:17<14:14:56, 557.57s/it]\u001b[A\n",
      "  9%|▉         | 9/100 [1:23:19<13:58:46, 553.04s/it]\u001b[A"
     ]
    }
   ],
   "source": [
    "k1 = 10\n",
    "k2 = 20\n",
    "intdim_k_repeated = repeated(intrinsic_dim_scale_interval, \n",
    "                             X, mode='bootstrap', nb_iter=100, \n",
    "                             verbose=1, k1=k1, k2=k2)\n",
    "intdim_k_repeated = np.array(intdim_k_repeated)\n",
    "plt.hist(intdim_k_repeated.mean(axis=1))"
   ]
  },
  {
   "cell_type": "code",
   "execution_count": 18,
   "metadata": {
    "collapsed": false
   },
   "outputs": [
    {
     "name": "stdout",
     "output_type": "stream",
     "text": [
      "[[ 13.15947674  13.10277159  13.03472758 ...,  12.87135046  12.8542989\n",
      "   12.83735072]\n",
      " [ 13.11799334  13.08555799  13.04474308 ...,  12.91388303  12.88968548\n",
      "   12.85011337]\n",
      " [ 13.15406806  13.11825039  13.08325673 ...,  12.93940533  12.93124646\n",
      "   12.90796922]\n",
      " ..., \n",
      " [ 13.16657796  13.11086159  13.04787767 ...,  12.92200077  12.89898032\n",
      "   12.8833116 ]\n",
      " [ 13.30424474  13.27202288  13.24708781 ...,  12.97689719  12.96116182\n",
      "   12.9342292 ]\n",
      " [ 13.11812841  13.06412814  13.02971242 ...,  12.87378182  12.84768687\n",
      "   12.82942344]]\n"
     ]
    }
   ],
   "source": [
    "print(intdim_k_repeated)"
   ]
  }
 ],
 "metadata": {
  "kernelspec": {
   "display_name": "Python 2",
   "language": "python",
   "name": "python2"
  },
  "language_info": {
   "codemirror_mode": {
    "name": "ipython",
    "version": 2
   },
   "file_extension": ".py",
   "mimetype": "text/x-python",
   "name": "python",
   "nbconvert_exporter": "python",
   "pygments_lexer": "ipython2",
   "version": "2.7.11"
  }
 },
 "nbformat": 4,
 "nbformat_minor": 0
}
