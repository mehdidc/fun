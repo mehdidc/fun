{
 "cells": [
  {
   "cell_type": "code",
   "execution_count": 1,
   "metadata": {
    "collapsed": false
   },
   "outputs": [],
   "source": [
    "from pyearth import Earth\n",
    "import pandas as pd\n",
    "from sklearn.linear_model import LogisticRegression\n",
    "from sklearn.pipeline import make_pipeline\n",
    "from sklearn.cross_validation import train_test_split, cross_val_score\n",
    "from sklearn.ensemble import RandomForestClassifier\n",
    "from sklearn.cross_validation import StratifiedKFold, KFold, StratifiedShuffleSplit\n",
    "from sklearn.base import clone\n",
    "from pyearth import Earth"
   ]
  },
  {
   "cell_type": "code",
   "execution_count": 2,
   "metadata": {
    "collapsed": false
   },
   "outputs": [],
   "source": [
    "names = 'Elevation,Aspect,Slope,Horizontal_Distance_To_Hydrology,Vertical_Distance_To_Hydrology,' +        'Horizontal_Distance_To_Roadways,Hillshade_9am,Hillshade_Noon,Hillshade_3pm,' +        'Horizontal_Distance_To_Fire_Points,W_Rawah,W_Neota,W_Comanche,W_Cache,2702,2703,2704,2705,2706,' +        '2717,3501,3502,4201,4703,4704,4744,4758,5101,5151,6101,6102,6731,7101,7102,7103,7201,7202,7700,' +        '7701,7702,7709,7710,7745,7746,7755,7756,7757,7790,8703,8707,8708,8771,8772,8776,Cover_Type'\n",
    "names = names.split(',')\n",
    "data = pd.read_csv(\n",
    "    'https://archive.ics.uci.edu/ml/machine-learning-databases/covtype/covtype.data.gz',\n",
    "    compression='gzip', names=names)\n",
    "X = data.drop('Cover_Type', axis=1).values\n",
    "y = data['Cover_Type'].values"
   ]
  },
  {
   "cell_type": "code",
   "execution_count": 3,
   "metadata": {
    "collapsed": false
   },
   "outputs": [
    {
     "name": "stdout",
     "output_type": "stream",
     "text": [
      "((581012, 54), (581012,))\n"
     ]
    }
   ],
   "source": [
    "print(X.shape, y.shape)"
   ]
  },
  {
   "cell_type": "code",
   "execution_count": 6,
   "metadata": {
    "collapsed": false
   },
   "outputs": [
    {
     "name": "stdout",
     "output_type": "stream",
     "text": [
      "((10000, 54), (571012, 54))\n"
     ]
    }
   ],
   "source": [
    "X_train, X_test, y_train, y_test = train_test_split(\n",
    "    X, y, train_size=10000, random_state=59)\n",
    "print(X_train.shape, X_test.shape)"
   ]
  },
  {
   "cell_type": "code",
   "execution_count": 14,
   "metadata": {
    "collapsed": false
   },
   "outputs": [
    {
     "name": "stdout",
     "output_type": "stream",
     "text": [
      "CPU times: user 1min 45s, sys: 10.8 s, total: 1min 56s\n",
      "Wall time: 14.3 s\n"
     ]
    }
   ],
   "source": [
    "%%time\n",
    "earth  = Earth(use_fast=False, fast_h=5, fast_K=1, max_terms=30)\n",
    "earth.fit(X_train, y_train)"
   ]
  },
  {
   "cell_type": "code",
   "execution_count": 15,
   "metadata": {
    "collapsed": false
   },
   "outputs": [
    {
     "name": "stdout",
     "output_type": "stream",
     "text": [
      "(10000, 54)\n"
     ]
    },
    {
     "data": {
      "text/plain": [
       "0.23431206349428735"
      ]
     },
     "execution_count": 15,
     "metadata": {},
     "output_type": "execute_result"
    }
   ],
   "source": [
    "p = {\n",
    "    \"n_jobs\": -1,\n",
    "    \"bootstrap\": True,\n",
    "    \"min_samples_leaf\": 6,\n",
    "    \"n_estimators\": 73,\n",
    "    \"criterion\": \"gini\",\n",
    "    \"min_samples_split\": 7\n",
    "}   \n",
    "clf = RandomForestClassifier(**p)\n",
    "clf.fit(X_train, y_train)\n",
    "print(X_train.shape)\n",
    "(clf.predict(X_test)!= y_test).mean()"
   ]
  },
  {
   "cell_type": "code",
   "execution_count": null,
   "metadata": {
    "collapsed": false
   },
   "outputs": [],
   "source": [
    "skf = StratifiedKFold(y, n_folds=5, shuffle=True, random_state=42)\n",
    "#skf = KFold(len(y), n_folds=5, random_state=42)\n",
    "results = []\n",
    "for train, test in skf:\n",
    "    clf_ = RandomForestClassifier(**p)\n",
    "    clf_.fit(X[train], y[train])\n",
    "    print(len(train), len(test))\n",
    "    print((clf_.predict(X[test]) != y[test]).mean())"
   ]
  }
 ],
 "metadata": {
  "kernelspec": {
   "display_name": "Python 2",
   "language": "python",
   "name": "python2"
  },
  "language_info": {
   "codemirror_mode": {
    "name": "ipython",
    "version": 2
   },
   "file_extension": ".py",
   "mimetype": "text/x-python",
   "name": "python",
   "nbconvert_exporter": "python",
   "pygments_lexer": "ipython2",
   "version": "2.7.12"
  }
 },
 "nbformat": 4,
 "nbformat_minor": 0
}
