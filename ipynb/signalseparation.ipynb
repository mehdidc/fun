{
 "cells": [
  {
   "cell_type": "code",
   "execution_count": 2,
   "metadata": {
    "collapsed": true
   },
   "outputs": [],
   "source": [
    "import numpy as np\n",
    "from scipy.stats import multivariate_normal"
   ]
  },
  {
   "cell_type": "code",
   "execution_count": 5,
   "metadata": {
    "collapsed": true
   },
   "outputs": [],
   "source": [
    "def logp_y_given_y1_y2(y, y1, y2, sigma):\n",
    "    return multivariate_normal.logpdf(y, y1 + y2, sigma)\n",
    "\n",
    "def logq_yx_given_y(yx, W_mean, W_logsigma):\n",
    "    m = np.dot(yx, W)\n",
    "    s = np.exp(np.dot(yx, W_logsigma))\n",
    "    return multivariate_normal.logpdf(yx, m, s)\n"
   ]
  }
 ],
 "metadata": {
  "kernelspec": {
   "display_name": "Python 2",
   "language": "python",
   "name": "python2"
  },
  "language_info": {
   "codemirror_mode": {
    "name": "ipython",
    "version": 2
   },
   "file_extension": ".py",
   "mimetype": "text/x-python",
   "name": "python",
   "nbconvert_exporter": "python",
   "pygments_lexer": "ipython2",
   "version": "2.7.10"
  }
 },
 "nbformat": 4,
 "nbformat_minor": 0
}
