{
 "cells": [
  {
   "cell_type": "code",
   "execution_count": 29,
   "metadata": {
    "collapsed": true
   },
   "outputs": [],
   "source": [
    "from lasagnekit.datasets.cifar10 import Cifar10\n",
    "from sklearn.preprocessing import LabelEncoder"
   ]
  },
  {
   "cell_type": "code",
   "execution_count": 4,
   "metadata": {
    "collapsed": true
   },
   "outputs": [],
   "source": [
    "data = Cifar10([1, 2, 3, 4, 5])\n",
    "data_test = Cifar10([6])\n",
    "\n",
    "data.load()\n",
    "data_test.load()"
   ]
  },
  {
   "cell_type": "code",
   "execution_count": 33,
   "metadata": {
    "collapsed": false
   },
   "outputs": [],
   "source": [
    "from sklearn.ensemble import RandomForestClassifier\n",
    "from sklearn.cross_validation import train_test_split\n",
    "label_encoder = LabelEncoder()\n",
    "data.y = label_encoder.fit_transform(data.y)\n",
    "X_train, X_valid, y_train, y_valid = train_test_split(data.X, data.y, test_size=0.15)"
   ]
  },
  {
   "cell_type": "code",
   "execution_count": 34,
   "metadata": {
    "collapsed": false
   },
   "outputs": [
    {
     "data": {
      "text/plain": [
       "RandomForestClassifier(bootstrap=True, class_weight=None, criterion='gini',\n",
       "            max_depth=None, max_features='auto', max_leaf_nodes=None,\n",
       "            min_samples_leaf=1, min_samples_split=2,\n",
       "            min_weight_fraction_leaf=0.0, n_estimators=10, n_jobs=1,\n",
       "            oob_score=False, random_state=None, verbose=0,\n",
       "            warm_start=False)"
      ]
     },
     "execution_count": 34,
     "metadata": {},
     "output_type": "execute_result"
    }
   ],
   "source": [
    "model = RandomForestClassifier()\n",
    "model.fit(X_train, y_train)"
   ]
  },
  {
   "cell_type": "code",
   "execution_count": 35,
   "metadata": {
    "collapsed": false
   },
   "outputs": [
    {
     "name": "stdout",
     "output_type": "stream",
     "text": [
      "0.993294117647\n",
      "0.344933333333\n",
      "0.354\n"
     ]
    }
   ],
   "source": [
    "print((model.predict(X_train)==y_train).mean())\n",
    "print((model.predict(X_valid)==y_valid).mean())\n",
    "print((model.predict(data_test.X)==label_encoder.transform(data_test.y)).mean())"
   ]
  },
  {
   "cell_type": "code",
   "execution_count": 36,
   "metadata": {
    "collapsed": false
   },
   "outputs": [
    {
     "name": "stdout",
     "output_type": "stream",
     "text": [
      "0.993285714286\n",
      "0.343571428571\n",
      "0.354\n"
     ]
    }
   ],
   "source": [
    "from lasagnekit.easy import iterate_minibatches\n",
    "import numpy as np\n",
    "def evaluate(model, X, y, batch_size=None):\n",
    "        if batch_size is None:\n",
    "            batch_size = hp[\"batch_size\"]\n",
    "        accs = []\n",
    "        for mini_batch in iterate_minibatches(X.shape[0],\n",
    "                                              batch_size):\n",
    "            acc = (model.predict(X[mini_batch]) == y[mini_batch]).mean()\n",
    "            accs.append(acc)\n",
    "        return accs\n",
    "\n",
    "print(np.mean(evaluate(model, X_train, y_train, batch_size=1000)))\n",
    "print(np.mean(evaluate(model, X_valid, y_valid, batch_size=1000)))\n",
    "print(np.mean(evaluate(model, data_test.X, data_test.y, batch_size=1000)))"
   ]
  }
 ],
 "metadata": {
  "kernelspec": {
   "display_name": "Python 2",
   "language": "python",
   "name": "python2"
  },
  "language_info": {
   "codemirror_mode": {
    "name": "ipython",
    "version": 2
   },
   "file_extension": ".py",
   "mimetype": "text/x-python",
   "name": "python",
   "nbconvert_exporter": "python",
   "pygments_lexer": "ipython2",
   "version": "2.7.11"
  }
 },
 "nbformat": 4,
 "nbformat_minor": 0
}
