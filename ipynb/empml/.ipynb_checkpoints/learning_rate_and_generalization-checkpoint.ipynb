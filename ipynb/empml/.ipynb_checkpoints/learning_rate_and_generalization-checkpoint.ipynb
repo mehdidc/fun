{
 "cells": [
  {
   "cell_type": "code",
   "execution_count": 4,
   "metadata": {
    "collapsed": false
   },
   "outputs": [
    {
     "name": "stdout",
     "output_type": "stream",
     "text": [
      "Requirement already satisfied (use --upgrade to upgrade): Theano==0.8.0 in /home/ubuntu/miniconda2/envs/databoard-env/lib/python2.7/site-packages (from -r https://raw.githubusercontent.com/Lasagne/Lasagne/master/requirements.txt (line 1))\n",
      "Requirement already satisfied (use --upgrade to upgrade): six>=1.9.0 in /home/ubuntu/miniconda2/envs/databoard-env/lib/python2.7/site-packages (from Theano==0.8.0->-r https://raw.githubusercontent.com/Lasagne/Lasagne/master/requirements.txt (line 1))\n",
      "Requirement already satisfied (use --upgrade to upgrade): scipy>=0.11 in /home/ubuntu/miniconda2/envs/databoard-env/lib/python2.7/site-packages (from Theano==0.8.0->-r https://raw.githubusercontent.com/Lasagne/Lasagne/master/requirements.txt (line 1))\n",
      "Requirement already satisfied (use --upgrade to upgrade): numpy>=1.7.1 in /home/ubuntu/miniconda2/envs/databoard-env/lib/python2.7/site-packages (from Theano==0.8.0->-r https://raw.githubusercontent.com/Lasagne/Lasagne/master/requirements.txt (line 1))\n",
      "\u001b[33mYou are using pip version 8.1.1, however version 8.1.2 is available.\n",
      "You should consider upgrading via the 'pip install --upgrade pip' command.\u001b[0m\n",
      "Collecting https://github.com/Lasagne/Lasagne/archive/master.zip\n",
      "  Downloading https://github.com/Lasagne/Lasagne/archive/master.zip (203kB)\n",
      "\u001b[K    100% |████████████████████████████████| 204kB 812kB/s \n",
      "\u001b[?25h  Requirement already satisfied (use --upgrade to upgrade): Lasagne==0.2.dev1 from https://github.com/Lasagne/Lasagne/archive/master.zip in /home/ubuntu/miniconda2/envs/databoard-env/lib/python2.7/site-packages\n",
      "Requirement already satisfied (use --upgrade to upgrade): numpy in /home/ubuntu/miniconda2/envs/databoard-env/lib/python2.7/site-packages (from Lasagne==0.2.dev1)\n",
      "\u001b[33mYou are using pip version 8.1.1, however version 8.1.2 is available.\n",
      "You should consider upgrading via the 'pip install --upgrade pip' command.\u001b[0m\n",
      "Fetching package metadata: ......\n",
      "Solving package specifications: ................\n",
      "# All requested packages already installed.\n",
      "# packages in environment at /home/ubuntu/miniconda2/envs/databoard-env:\n",
      "#\n",
      "numpy                     1.11.0                   py27_1  \n"
     ]
    }
   ],
   "source": [
    "!pip install -r https://raw.githubusercontent.com/Lasagne/Lasagne/master/requirements.txt\n",
    "!pip install https://github.com/Lasagne/Lasagne/archive/master.zip\n",
    "!conda install -c mehdidc numpy=1.11.0 "
   ]
  },
  {
   "cell_type": "code",
   "execution_count": 5,
   "metadata": {
    "collapsed": true
   },
   "outputs": [],
   "source": [
    "from lasagne import layers, init\n",
    "from lasagne.nonlinearities import (linear, sigmoid, rectify, very_leaky_rectify, softmax, tanh)\n",
    "from lasagne.layers import BatchNormLayer\n",
    "import theano.tensor as T"
   ]
  },
  {
   "cell_type": "code",
   "execution_count": 7,
   "metadata": {
    "collapsed": true
   },
   "outputs": [],
   "source": [
    "def build_ciresan_4(w=32, h=32, c=1, nb_outputs=10):\n",
    "    nonlin = tanh\n",
    "    l_in = layers.InputLayer((None, c, w, h), name=\"input\")\n",
    "    l_hid = layers.DenseLayer(l_in, 2500, nonlinearity=nonlin, W=init.HeUniform(), name=\"hid1\")\n",
    "    l_hid = layers.DenseLayer(l_hid, 2000, nonlinearity=nonlin, W=init.HeUniform(), name=\"hid2\")\n",
    "    l_hid = layers.DenseLayer(l_hid, 1000, nonlinearity=nonlin, W=init.HeUniform(), name=\"hid3\")\n",
    "    l_hid = layers.DenseLayer(l_hid, 1000, nonlinearity=nonlin, W=init.HeUniform(), name=\"hid3\")\n",
    "    l_hid = layers.DenseLayer(l_hid, 500, nonlinearity=nonlin, W=init.HeUniform(), name=\"hid4\")\n",
    "    l_out = layers.DenseLayer(l_hid, 10, nonlinearity=softmax, W=init.HeUniform(), name=\"output\")\n",
    "    return l_out"
   ]
  },
  {
   "cell_type": "code",
   "execution_count": null,
   "metadata": {
    "collapsed": true
   },
   "outputs": [],
   "source": []
  }
 ],
 "metadata": {
  "kernelspec": {
   "display_name": "Python 2",
   "language": "python",
   "name": "python2"
  },
  "language_info": {
   "codemirror_mode": {
    "name": "ipython",
    "version": 2
   },
   "file_extension": ".py",
   "mimetype": "text/x-python",
   "name": "python",
   "nbconvert_exporter": "python",
   "pygments_lexer": "ipython2",
   "version": "2.7.11"
  }
 },
 "nbformat": 4,
 "nbformat_minor": 0
}
