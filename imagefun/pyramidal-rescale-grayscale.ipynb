{
 "cells": [
  {
   "cell_type": "code",
   "execution_count": null,
   "metadata": {
    "collapsed": false
   },
   "outputs": [],
   "source": [
    "import os\n",
    "import sys\n",
    "%matplotlib inline\n",
    "import matplotlib.pyplot as plt\n",
    "os.environ[\"THEANO_FLAGS\"] = \"device=gpu\"\n",
    "sys.path.append(os.getcwd()+\"/..\")\n",
    "from tasks import check"
   ]
  },
  {
   "cell_type": "code",
   "execution_count": null,
   "metadata": {
    "collapsed": false
   },
   "outputs": [],
   "source": [
    "from model import model58"
   ]
  },
  {
   "cell_type": "code",
   "execution_count": null,
   "metadata": {
    "collapsed": false
   },
   "outputs": [],
   "source": [
    "all_layers = model58(nb_filters=128, w=32, h=32, c=1, nb_layers=3)"
   ]
  },
  {
   "cell_type": "code",
   "execution_count": null,
   "metadata": {
    "collapsed": false
   },
   "outputs": [],
   "source": [
    "import theano.tensor as T\n",
    "import theano\n",
    "from lasagne import layers\n",
    "\n",
    "X = T.tensor4()\n",
    "Y = T.tensor4()\n"
   ]
  },
  {
   "cell_type": "code",
   "execution_count": null,
   "metadata": {
    "collapsed": false
   },
   "outputs": [],
   "source": [
    "Y_pred = (layers.get_output(all_layers['output'], X))\n",
    "loss = ((Y_pred - Y) ** 2).mean()"
   ]
  },
  {
   "cell_type": "code",
   "execution_count": null,
   "metadata": {
    "collapsed": false
   },
   "outputs": [],
   "source": [
    "from lasagne import updates\n",
    "import numpy as np\n",
    "params = layers.get_all_params(all_layers.values(), trainable=True)\n",
    "print(\"Number of params : {}\".format(layers.count_params(all_layers.values(), trainable=True))) \n",
    "lr = theano.shared(np.array(0.01, dtype=theano.config.floatX))\n",
    "params_updates = updates.momentum(loss, params, learning_rate=lr, momentum=0.9)"
   ]
  },
  {
   "cell_type": "code",
   "execution_count": null,
   "metadata": {
    "collapsed": false
   },
   "outputs": [],
   "source": [
    "from lasagnekit.misc.draw_net import draw_to_file\n",
    "from IPython.display import SVG\n",
    "draw_to_file(layers.get_all_layers(all_layers['output']), 'out.svg')\n",
    "SVG('out.svg')"
   ]
  },
  {
   "cell_type": "code",
   "execution_count": null,
   "metadata": {
    "collapsed": false
   },
   "outputs": [],
   "source": [
    "train_fn = theano.function([X, Y], loss, updates=params_updates, on_unused_input='warn')"
   ]
  },
  {
   "cell_type": "code",
   "execution_count": null,
   "metadata": {
    "collapsed": false
   },
   "outputs": [],
   "source": [
    "predict_fn = theano.function([X], Y_pred, on_unused_input='warn')"
   ]
  },
  {
   "cell_type": "code",
   "execution_count": null,
   "metadata": {
    "collapsed": false
   },
   "outputs": [],
   "source": [
    "from data import load_data\n",
    "from lasagnekit.datasets.rescaled import Rescaled\n",
    "from lasagnekit.easy import iterate_minibatches\n",
    "from lasagnekit.datasets.imagecollection import ImageCollection\n",
    "from lasagnekit.datasets.transformed import Transformed\n",
    "from lasagnekit.datasets.mnist import MNIST\n",
    "from lasagnekit.datasets.helpers import load_once\n",
    "from lasagnekit.datasets.subsampled import SubSampled\n",
    "w, h = 32, 32\n",
    "scale = {1: 32, 2: 16, 3: 8, 4: 4}\n",
    "batch_size = 128\n",
    "\n",
    "\n",
    "data_scale1 = load_once(MNIST)()\n",
    "data_scale1 = SubSampled(data_scale1, batch_size)\n",
    "data_scale1 = Rescaled(data_scale1, (w, h))\n",
    "\n",
    "data_scale2 = Rescaled(data_scale1, (scale[2], scale[2]))\n",
    "data_scale2 = Rescaled(data_scale2, (scale[1], scale[1]))\n",
    "c = 1\n",
    "def preprocess(x, s=32):\n",
    "    x = x.reshape((x.shape[0], s, s, c))\n",
    "    x = x.transpose((0, 3, 1, 2))\n",
    "    return x\n",
    "data_scale1.load()\n",
    "data_scale2.load()"
   ]
  },
  {
   "cell_type": "code",
   "execution_count": null,
   "metadata": {
    "collapsed": false
   },
   "outputs": [],
   "source": [
    "print(all_layers['output'].output_shape)\n",
    "print(data_scale1.X.shape)\n",
    "print(data_scale2.X.shape)"
   ]
  },
  {
   "cell_type": "code",
   "execution_count": null,
   "metadata": {
    "collapsed": false
   },
   "outputs": [],
   "source": [
    "lr.set_value(0.001)\n",
    "loss_list = []\n",
    "for i in range(100000):\n",
    "    data_scale1.load()\n",
    "    data_scale2.load()\n",
    "    X_scale1 = preprocess(data_scale1.X, s=scale[1])\n",
    "    X_scale2 = preprocess(data_scale2.X, s=scale[1])\n",
    "    total_loss = 0.\n",
    "    for mini_batch in iterate_minibatches(len(data_scale1.X), batch_size):\n",
    "        loss_val = train_fn(X_scale2[mini_batch], X_scale1[mini_batch] - X_scale2[mini_batch])\n",
    "        total_loss += loss_val\n",
    "    if i % 100 == 0:\n",
    "        print(total_loss)\n",
    "    loss_list.append(total_loss)"
   ]
  },
  {
   "cell_type": "code",
   "execution_count": null,
   "metadata": {
    "collapsed": false
   },
   "outputs": [],
   "source": [
    "plt.plot(loss_list)"
   ]
  },
  {
   "cell_type": "code",
   "execution_count": null,
   "metadata": {
    "collapsed": false
   },
   "outputs": [],
   "source": [
    "out1 = X_scale2[0:100]\n",
    "for i in range(1):\n",
    "    out1 = predict_fn(out1)\n",
    "#out1 = X_scale1[0:100]"
   ]
  },
  {
   "cell_type": "code",
   "execution_count": null,
   "metadata": {
    "collapsed": false
   },
   "outputs": [],
   "source": [
    "%matplotlib inline\n",
    "import matplotlib.pyplot as plt\n",
    "from lasagnekit.misc.plot_weights import tile_raster_images\n",
    "fig = plt.figure(figsize=(20, 20))\n",
    "img = tile_raster_images(X_scale1[0:100, 0], (w, h), (10, 10))\n",
    "plt.imshow(img, interpolation='none', cmap='gray')\n",
    "fig =plt.figure(figsize=(20, 20))\n",
    "img = tile_raster_images(out1[0:100, 0] + X_scale2[0:100, 0], (w, h), (10, 10))\n",
    "plt.imshow(img, interpolation='none', cmap='gray')"
   ]
  },
  {
   "cell_type": "code",
   "execution_count": null,
   "metadata": {
    "collapsed": false
   },
   "outputs": [],
   "source": [
    "ss = np.random.uniform(size=(100, c, 32, 32))\n",
    "ss = ss.astype(np.float32)\n",
    "for i in range(10):\n",
    "    ss = predict_fn(ss)\n",
    "print(ss.shape)\n",
    "%matplotlib inline\n",
    "import matplotlib.pyplot as plt\n",
    "from lasagnekit.misc.plot_weights import dispims_color\n",
    "fig = plt.figure(figsize=(10, 10))\n",
    "img = tile_raster_images(ss[0:100].transpose((0, 2, 3, 1)), (w, h), (10, 10))\n",
    "plt.axis('off')\n",
    "plt.imshow(img, interpolation='none', cmap='gray')"
   ]
  }
 ],
 "metadata": {
  "kernelspec": {
   "display_name": "Python 2",
   "language": "python",
   "name": "python2"
  },
  "language_info": {
   "codemirror_mode": {
    "name": "ipython",
    "version": 2
   },
   "file_extension": ".py",
   "mimetype": "text/x-python",
   "name": "python",
   "nbconvert_exporter": "python",
   "pygments_lexer": "ipython2",
   "version": "2.7.11"
  }
 },
 "nbformat": 4,
 "nbformat_minor": 0
}
